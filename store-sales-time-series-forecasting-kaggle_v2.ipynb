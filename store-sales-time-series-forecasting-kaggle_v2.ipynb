{
 "cells": [
  {
   "cell_type": "code",
   "execution_count": 1,
   "metadata": {
    "ExecuteTime": {
     "end_time": "2024-12-25T10:45:17.826961Z",
     "start_time": "2024-12-25T10:45:17.821596Z"
    },
    "_cell_guid": "b1076dfc-b9ad-4769-8c92-a6c4dae69d19",
    "_uuid": "8f2839f25d086af736a60e9eeb907d3b93b6e0e5",
    "execution": {
     "iopub.execute_input": "2024-12-30T14:22:27.489616Z",
     "iopub.status.busy": "2024-12-30T14:22:27.489362Z",
     "iopub.status.idle": "2024-12-30T14:22:27.493877Z",
     "shell.execute_reply": "2024-12-30T14:22:27.492816Z",
     "shell.execute_reply.started": "2024-12-30T14:22:27.489592Z"
    },
    "trusted": true
   },
   "outputs": [],
   "source": [
    "# # This Python 3 environment comes with many helpful analytics libraries installed\n",
    "# # It is defined by the kaggle/python Docker image: https://github.com/kaggle/docker-python\n",
    "# # For example, here's several helpful packages to load\n",
    "\n",
    "# import numpy as np # linear algebra\n",
    "# import pandas as pd # data processing, CSV file I/O (e.g. pd.read_csv)\n",
    "\n",
    "# # Input data files are available in the read-only \"../input/\" directory\n",
    "# # For example, running this (by clicking run or pressing Shift+Enter) will list all files under the input directory\n",
    "\n",
    "# import os\n",
    "# for dirname, _, filenames in os.walk('/kaggle/input'):\n",
    "#     for filename in filenames:\n",
    "#         print(os.path.join(dirname, filename))\n",
    "\n",
    "# # You can write up to 20GB to the current directory (/kaggle/working/) that gets preserved as output when you create a version using \"Save & Run All\" \n",
    "# # You can also write temporary files to /kaggle/temp/, but they won't be saved outside of the current session"
   ]
  },
  {
   "cell_type": "code",
   "execution_count": null,
   "metadata": {
    "ExecuteTime": {
     "end_time": "2024-12-25T10:45:18.167221Z",
     "start_time": "2024-12-25T10:45:18.162894Z"
    },
    "execution": {
     "iopub.execute_input": "2024-12-30T14:22:27.495583Z",
     "iopub.status.busy": "2024-12-30T14:22:27.495219Z",
     "iopub.status.idle": "2024-12-30T14:22:38.743191Z",
     "shell.execute_reply": "2024-12-30T14:22:38.741807Z",
     "shell.execute_reply.started": "2024-12-30T14:22:27.495554Z"
    },
    "trusted": true
   },
   "outputs": [],
   "source": [
    "!pip install pycountry\n",
    "!pip install pmdarima"
   ]
  },
  {
   "cell_type": "code",
   "execution_count": 3,
   "metadata": {
    "ExecuteTime": {
     "end_time": "2024-12-25T10:45:18.375292Z",
     "start_time": "2024-12-25T10:45:18.350830Z"
    },
    "execution": {
     "iopub.execute_input": "2024-12-30T14:22:38.744785Z",
     "iopub.status.busy": "2024-12-30T14:22:38.744483Z",
     "iopub.status.idle": "2024-12-30T14:22:40.827588Z",
     "shell.execute_reply": "2024-12-30T14:22:40.826440Z",
     "shell.execute_reply.started": "2024-12-30T14:22:38.744755Z"
    },
    "trusted": true
   },
   "outputs": [],
   "source": [
    "import os\n",
    "import pandas as pd\n",
    "import numpy as np\n",
    "from collections import Counter\n",
    "import seaborn as sns\n",
    "import plotly.express as px\n",
    "from prophet import Prophet\n",
    "from statsmodels.tsa.seasonal import seasonal_decompose\n",
    "from prophet.plot import add_changepoints_to_plot\n",
    "from prophet.plot import plot\n",
    "import matplotlib.pyplot as plt\n",
    "import pycountry\n",
    "import random\n",
    "from sklearn.metrics import mean_squared_error\n",
    "from sklearn.preprocessing import MinMaxScaler"
   ]
  },
  {
   "cell_type": "code",
   "execution_count": null,
   "metadata": {
    "ExecuteTime": {
     "end_time": "2024-12-25T10:45:18.590025Z",
     "start_time": "2024-12-25T10:45:18.568607Z"
    },
    "execution": {
     "iopub.execute_input": "2024-12-30T14:22:40.830545Z",
     "iopub.status.busy": "2024-12-30T14:22:40.830007Z",
     "iopub.status.idle": "2024-12-30T14:22:40.840551Z",
     "shell.execute_reply": "2024-12-30T14:22:40.839472Z",
     "shell.execute_reply.started": "2024-12-30T14:22:40.830511Z"
    },
    "trusted": true
   },
   "outputs": [],
   "source": [
    "list(pycountry.countries)[0]\n",
    "Ecuador=pycountry.countries.get(name='Ecuador')\n",
    "Ecuador"
   ]
  },
  {
   "cell_type": "code",
   "execution_count": 5,
   "metadata": {
    "ExecuteTime": {
     "end_time": "2024-12-25T10:45:19.185725Z",
     "start_time": "2024-12-25T10:45:18.990122Z"
    },
    "execution": {
     "iopub.execute_input": "2024-12-30T14:22:40.843096Z",
     "iopub.status.busy": "2024-12-30T14:22:40.842705Z",
     "iopub.status.idle": "2024-12-30T14:22:40.860557Z",
     "shell.execute_reply": "2024-12-30T14:22:40.859578Z",
     "shell.execute_reply.started": "2024-12-30T14:22:40.843066Z"
    },
    "trusted": true
   },
   "outputs": [],
   "source": [
    "# import pycountry\n",
    "# from googletrans import Translator\n",
    "\n",
    "# # Initialize the translator\n",
    "# translator = Translator()\n",
    "\n",
    "# # Get subdivisions for Ecuador (or any country)\n",
    "# country_code = \"EC\"  # ISO code for Ecuador\n",
    "# subdivisions = pycountry.subdivisions.get(country_code=country_code)\n",
    "\n",
    "# # Translate names to English\n",
    "# all_subdivs_english = []\n",
    "# for subdivision in subdivisions:\n",
    "#     # print(subdivision.name)\n",
    "#     # translated_name = translator.translate(subdivision.name, src='auto', dest='en').text\n",
    "#     all_subdivs_english.append(subdivision.name)\n",
    "#     # print(f\"Original: {subdivision.name}, Translated: {translated_name}\")\n",
    "\n",
    "# # Print the list of translated names\n",
    "# print(all_subdivs_english)\n"
   ]
  },
  {
   "cell_type": "code",
   "execution_count": 6,
   "metadata": {
    "ExecuteTime": {
     "end_time": "2024-12-25T10:45:26.952665Z",
     "start_time": "2024-12-25T10:45:19.321860Z"
    },
    "execution": {
     "iopub.execute_input": "2024-12-30T14:22:40.862038Z",
     "iopub.status.busy": "2024-12-30T14:22:40.861702Z",
     "iopub.status.idle": "2024-12-30T14:22:40.884912Z",
     "shell.execute_reply": "2024-12-30T14:22:40.883904Z",
     "shell.execute_reply.started": "2024-12-30T14:22:40.862009Z"
    },
    "trusted": true
   },
   "outputs": [],
   "source": [
    "for dirname, _, filenames in os.walk('data'):\n",
    "    for filename in filenames:\n",
    "        print(os.path.join(dirname, filename))\n",
    "        print(filename[:-4])\n",
    "        file_name =filename[:-4]\n",
    "        file_name=pd.read_csv(os.path.join(dirname, filename))\n",
    "        print(file_name.head())\n",
    "        print('*'*100)\n",
    "        print(file_name.info())\n",
    "        print('*'*100)\n",
    "        print(file_name.describe())\n",
    "        print('++'*100)"
   ]
  },
  {
   "cell_type": "code",
   "execution_count": 7,
   "metadata": {
    "ExecuteTime": {
     "end_time": "2024-12-25T10:45:26.961848Z",
     "start_time": "2024-12-25T10:45:26.958687Z"
    },
    "execution": {
     "iopub.execute_input": "2024-12-30T14:22:40.886408Z",
     "iopub.status.busy": "2024-12-30T14:22:40.886055Z",
     "iopub.status.idle": "2024-12-30T14:22:40.905301Z",
     "shell.execute_reply": "2024-12-30T14:22:40.904163Z",
     "shell.execute_reply.started": "2024-12-30T14:22:40.886378Z"
    },
    "trusted": true
   },
   "outputs": [],
   "source": [
    "data='/kaggle/input/store-sales-time-series-forecasting'"
   ]
  },
  {
   "cell_type": "code",
   "execution_count": 8,
   "metadata": {
    "ExecuteTime": {
     "end_time": "2024-12-25T10:45:30.707685Z",
     "start_time": "2024-12-25T10:45:27.012795Z"
    },
    "execution": {
     "iopub.execute_input": "2024-12-30T14:22:40.906720Z",
     "iopub.status.busy": "2024-12-30T14:22:40.906322Z",
     "iopub.status.idle": "2024-12-30T14:22:44.520564Z",
     "shell.execute_reply": "2024-12-30T14:22:44.519558Z",
     "shell.execute_reply.started": "2024-12-30T14:22:40.906673Z"
    },
    "trusted": true
   },
   "outputs": [],
   "source": [
    "my_test=pd.read_csv(f'{data}/test.csv',parse_dates=['date'])\n",
    "oil=pd.read_csv(f'{data}/oil.csv',parse_dates=['date'])\n",
    "train=pd.read_csv(f'{data}/train.csv',parse_dates=['date']) # main df # main df\n",
    "stores=pd.read_csv(f'{data}/stores.csv') # can be merged with train - on store no\n",
    "ts=pd.read_csv(f'{data}/transactions.csv',parse_dates=['date']) # can be merged with train - on store no and date\n",
    "holiday=pd.read_csv(f'{data}/holidays_events.csv',parse_dates=['date'])"
   ]
  },
  {
   "cell_type": "code",
   "execution_count": 9,
   "metadata": {
    "ExecuteTime": {
     "end_time": "2024-12-25T10:45:30.724703Z",
     "start_time": "2024-12-25T10:45:30.717041Z"
    },
    "execution": {
     "iopub.execute_input": "2024-12-30T14:22:44.522009Z",
     "iopub.status.busy": "2024-12-30T14:22:44.521636Z",
     "iopub.status.idle": "2024-12-30T14:22:44.527193Z",
     "shell.execute_reply": "2024-12-30T14:22:44.525875Z",
     "shell.execute_reply.started": "2024-12-30T14:22:44.521979Z"
    },
    "trusted": true
   },
   "outputs": [],
   "source": [
    "stores.rename(columns={'type':'store_type'},inplace=True)"
   ]
  },
  {
   "cell_type": "code",
   "execution_count": null,
   "metadata": {
    "ExecuteTime": {
     "end_time": "2024-12-25T10:45:30.849136Z",
     "start_time": "2024-12-25T10:45:30.835812Z"
    },
    "execution": {
     "iopub.execute_input": "2024-12-30T14:22:44.528785Z",
     "iopub.status.busy": "2024-12-30T14:22:44.528395Z",
     "iopub.status.idle": "2024-12-30T14:22:44.563486Z",
     "shell.execute_reply": "2024-12-30T14:22:44.562414Z",
     "shell.execute_reply.started": "2024-12-30T14:22:44.528735Z"
    },
    "trusted": true
   },
   "outputs": [],
   "source": [
    "holiday.head()"
   ]
  },
  {
   "cell_type": "code",
   "execution_count": 11,
   "metadata": {
    "ExecuteTime": {
     "end_time": "2024-12-25T10:45:31.030558Z",
     "start_time": "2024-12-25T10:45:31.020322Z"
    },
    "execution": {
     "iopub.execute_input": "2024-12-30T14:22:44.564881Z",
     "iopub.status.busy": "2024-12-30T14:22:44.564575Z",
     "iopub.status.idle": "2024-12-30T14:22:44.570991Z",
     "shell.execute_reply": "2024-12-30T14:22:44.569762Z",
     "shell.execute_reply.started": "2024-12-30T14:22:44.564856Z"
    },
    "trusted": true
   },
   "outputs": [],
   "source": [
    "holiday['date']=pd.to_datetime(holiday['date'])"
   ]
  },
  {
   "cell_type": "code",
   "execution_count": null,
   "metadata": {
    "ExecuteTime": {
     "end_time": "2024-12-25T10:45:31.136562Z",
     "start_time": "2024-12-25T10:45:31.127757Z"
    },
    "execution": {
     "iopub.execute_input": "2024-12-30T14:22:44.572442Z",
     "iopub.status.busy": "2024-12-30T14:22:44.572099Z",
     "iopub.status.idle": "2024-12-30T14:22:44.595017Z",
     "shell.execute_reply": "2024-12-30T14:22:44.594091Z",
     "shell.execute_reply.started": "2024-12-30T14:22:44.572413Z"
    },
    "trusted": true
   },
   "outputs": [],
   "source": [
    "for col in holiday.columns:\n",
    "    if holiday[col].dtype=='object': \n",
    "        print(col)\n",
    "        print(holiday[col].unique())\n",
    "        print('*'*10)"
   ]
  },
  {
   "cell_type": "code",
   "execution_count": 13,
   "metadata": {
    "ExecuteTime": {
     "end_time": "2024-12-25T10:45:31.828349Z",
     "start_time": "2024-12-25T10:45:31.819361Z"
    },
    "execution": {
     "iopub.execute_input": "2024-12-30T14:22:44.599494Z",
     "iopub.status.busy": "2024-12-30T14:22:44.599113Z",
     "iopub.status.idle": "2024-12-30T14:22:44.609250Z",
     "shell.execute_reply": "2024-12-30T14:22:44.608193Z",
     "shell.execute_reply.started": "2024-12-30T14:22:44.599463Z"
    },
    "trusted": true
   },
   "outputs": [],
   "source": [
    "good_words=['Fundacion','Mundial','Cantonizacion','Independencia','Batalla','Navidad','futbol','Provincializacion','Carnaval','Friday','Dia','Monday','Viernes']\n",
    "bad_words=['Terremoto']"
   ]
  },
  {
   "cell_type": "code",
   "execution_count": 14,
   "metadata": {
    "ExecuteTime": {
     "end_time": "2024-12-25T10:45:32.334856Z",
     "start_time": "2024-12-25T10:45:32.309867Z"
    },
    "execution": {
     "iopub.execute_input": "2024-12-30T14:22:44.612408Z",
     "iopub.status.busy": "2024-12-30T14:22:44.612072Z",
     "iopub.status.idle": "2024-12-30T14:22:44.641999Z",
     "shell.execute_reply": "2024-12-30T14:22:44.640923Z",
     "shell.execute_reply.started": "2024-12-30T14:22:44.612381Z"
    },
    "trusted": true
   },
   "outputs": [],
   "source": [
    "# Create a regular expression pattern from the list of good words\n",
    "pattern = '|'.join([f'\\\\b{word.lower()}\\\\b' for word in good_words])  # This ensures we match whole words\n",
    "bad_pattern='|'.join([f'\\\\b{word.lower()}\\\\b' for word in bad_words])\n",
    "# Apply the logic to classify holidays\n",
    "\n",
    "holiday['category'] = np.where(holiday['description'].str.lower().str.contains(pattern, na=False), 'good', 'bad')\n"
   ]
  },
  {
   "cell_type": "code",
   "execution_count": 15,
   "metadata": {
    "ExecuteTime": {
     "end_time": "2024-12-25T10:45:32.668236Z",
     "start_time": "2024-12-25T10:45:32.658031Z"
    },
    "execution": {
     "iopub.execute_input": "2024-12-30T14:22:44.643522Z",
     "iopub.status.busy": "2024-12-30T14:22:44.643112Z",
     "iopub.status.idle": "2024-12-30T14:22:44.663403Z",
     "shell.execute_reply": "2024-12-30T14:22:44.662141Z",
     "shell.execute_reply.started": "2024-12-30T14:22:44.643479Z"
    },
    "trusted": true
   },
   "outputs": [],
   "source": [
    "def classify_holiday(description):\n",
    "    # Check for good words\n",
    "    for word in good_words:\n",
    "        if word.lower() in description.lower():\n",
    "            return word  # Return 'good' if any word in good_words is found\n",
    "    # Check for bad words\n",
    "    for word in bad_words:\n",
    "        if word.lower() in description.lower():\n",
    "            return word  # Return 'bad' if any word in bad_words is found\n",
    "    return 'neutral'  # Default to neutral if neither is found\n",
    "\n",
    "# Apply the function to the DataFrame\n",
    "holiday['category_reg'] = holiday['description'].apply(classify_holiday)"
   ]
  },
  {
   "cell_type": "code",
   "execution_count": null,
   "metadata": {
    "ExecuteTime": {
     "end_time": "2024-12-25T10:45:32.738140Z",
     "start_time": "2024-12-25T10:45:32.732421Z"
    },
    "execution": {
     "iopub.execute_input": "2024-12-30T14:22:44.665224Z",
     "iopub.status.busy": "2024-12-30T14:22:44.664779Z",
     "iopub.status.idle": "2024-12-30T14:22:44.685289Z",
     "shell.execute_reply": "2024-12-30T14:22:44.684052Z",
     "shell.execute_reply.started": "2024-12-30T14:22:44.665142Z"
    },
    "trusted": true
   },
   "outputs": [],
   "source": [
    "pattern"
   ]
  },
  {
   "cell_type": "code",
   "execution_count": null,
   "metadata": {
    "ExecuteTime": {
     "end_time": "2024-12-25T10:45:33.045640Z",
     "start_time": "2024-12-25T10:45:33.001408Z"
    },
    "execution": {
     "iopub.execute_input": "2024-12-30T14:22:44.687051Z",
     "iopub.status.busy": "2024-12-30T14:22:44.686696Z",
     "iopub.status.idle": "2024-12-30T14:22:44.716693Z",
     "shell.execute_reply": "2024-12-30T14:22:44.715649Z",
     "shell.execute_reply.started": "2024-12-30T14:22:44.687022Z"
    },
    "trusted": true
   },
   "outputs": [],
   "source": [
    "holiday[holiday['description'].str.contains('futbol')]"
   ]
  },
  {
   "cell_type": "code",
   "execution_count": null,
   "metadata": {
    "ExecuteTime": {
     "end_time": "2024-12-25T10:45:33.830565Z",
     "start_time": "2024-12-25T10:45:33.800766Z"
    },
    "execution": {
     "iopub.execute_input": "2024-12-30T14:22:44.718159Z",
     "iopub.status.busy": "2024-12-30T14:22:44.717823Z",
     "iopub.status.idle": "2024-12-30T14:22:44.742974Z",
     "shell.execute_reply": "2024-12-30T14:22:44.742059Z",
     "shell.execute_reply.started": "2024-12-30T14:22:44.718132Z"
    },
    "trusted": true
   },
   "outputs": [],
   "source": [
    "holiday[holiday['category'].str.contains('bad')].head()"
   ]
  },
  {
   "cell_type": "code",
   "execution_count": null,
   "metadata": {
    "ExecuteTime": {
     "end_time": "2024-12-25T10:45:34.615128Z",
     "start_time": "2024-12-25T10:45:34.582651Z"
    },
    "execution": {
     "iopub.execute_input": "2024-12-30T14:22:44.744256Z",
     "iopub.status.busy": "2024-12-30T14:22:44.743925Z",
     "iopub.status.idle": "2024-12-30T14:22:44.773718Z",
     "shell.execute_reply": "2024-12-30T14:22:44.772557Z",
     "shell.execute_reply.started": "2024-12-30T14:22:44.744228Z"
    },
    "trusted": true
   },
   "outputs": [],
   "source": [
    "holiday[holiday['type']=='Event'].head()"
   ]
  },
  {
   "cell_type": "code",
   "execution_count": null,
   "metadata": {
    "ExecuteTime": {
     "end_time": "2024-12-25T10:45:35.742744Z",
     "start_time": "2024-12-25T10:45:35.719965Z"
    },
    "execution": {
     "iopub.execute_input": "2024-12-30T14:22:44.775636Z",
     "iopub.status.busy": "2024-12-30T14:22:44.775220Z",
     "iopub.status.idle": "2024-12-30T14:22:44.797405Z",
     "shell.execute_reply": "2024-12-30T14:22:44.796269Z",
     "shell.execute_reply.started": "2024-12-30T14:22:44.775604Z"
    },
    "trusted": true
   },
   "outputs": [],
   "source": [
    "Counter(holiday['description'].to_list())"
   ]
  },
  {
   "cell_type": "code",
   "execution_count": null,
   "metadata": {
    "ExecuteTime": {
     "end_time": "2024-12-25T10:45:36.720831Z",
     "start_time": "2024-12-25T10:45:36.713488Z"
    },
    "execution": {
     "iopub.execute_input": "2024-12-30T14:22:44.799110Z",
     "iopub.status.busy": "2024-12-30T14:22:44.798692Z",
     "iopub.status.idle": "2024-12-30T14:22:44.818273Z",
     "shell.execute_reply": "2024-12-30T14:22:44.817193Z",
     "shell.execute_reply.started": "2024-12-30T14:22:44.799070Z"
    },
    "trusted": true
   },
   "outputs": [],
   "source": [
    "holiday['locale'].unique()"
   ]
  },
  {
   "cell_type": "code",
   "execution_count": null,
   "metadata": {
    "ExecuteTime": {
     "end_time": "2024-12-25T10:45:37.594517Z",
     "start_time": "2024-12-25T10:45:37.575071Z"
    },
    "execution": {
     "iopub.execute_input": "2024-12-30T14:22:44.819764Z",
     "iopub.status.busy": "2024-12-30T14:22:44.819438Z",
     "iopub.status.idle": "2024-12-30T14:22:44.838388Z",
     "shell.execute_reply": "2024-12-30T14:22:44.837292Z",
     "shell.execute_reply.started": "2024-12-30T14:22:44.819735Z"
    },
    "trusted": true
   },
   "outputs": [],
   "source": [
    "holiday[holiday['locale']=='Regional']['locale_name'].unique()"
   ]
  },
  {
   "cell_type": "code",
   "execution_count": null,
   "metadata": {
    "ExecuteTime": {
     "end_time": "2024-12-25T10:45:38.123581Z",
     "start_time": "2024-12-25T10:45:38.112210Z"
    },
    "execution": {
     "iopub.execute_input": "2024-12-30T14:22:44.839913Z",
     "iopub.status.busy": "2024-12-30T14:22:44.839439Z",
     "iopub.status.idle": "2024-12-30T14:22:44.859116Z",
     "shell.execute_reply": "2024-12-30T14:22:44.858021Z",
     "shell.execute_reply.started": "2024-12-30T14:22:44.839882Z"
    },
    "trusted": true
   },
   "outputs": [],
   "source": [
    "holiday[holiday['locale']=='Local']['locale_name'].unique()"
   ]
  },
  {
   "cell_type": "code",
   "execution_count": null,
   "metadata": {
    "ExecuteTime": {
     "end_time": "2024-12-25T10:45:38.660674Z",
     "start_time": "2024-12-25T10:45:38.513175Z"
    },
    "execution": {
     "iopub.execute_input": "2024-12-30T14:22:44.860621Z",
     "iopub.status.busy": "2024-12-30T14:22:44.860320Z",
     "iopub.status.idle": "2024-12-30T14:22:45.047386Z",
     "shell.execute_reply": "2024-12-30T14:22:45.046488Z",
     "shell.execute_reply.started": "2024-12-30T14:22:44.860594Z"
    },
    "trusted": true
   },
   "outputs": [],
   "source": [
    "train['family'].unique()"
   ]
  },
  {
   "cell_type": "code",
   "execution_count": null,
   "metadata": {
    "ExecuteTime": {
     "end_time": "2024-12-25T10:45:39.075119Z",
     "start_time": "2024-12-25T10:45:39.052974Z"
    },
    "execution": {
     "iopub.execute_input": "2024-12-30T14:22:45.048592Z",
     "iopub.status.busy": "2024-12-30T14:22:45.048321Z",
     "iopub.status.idle": "2024-12-30T14:22:45.064848Z",
     "shell.execute_reply": "2024-12-30T14:22:45.063836Z",
     "shell.execute_reply.started": "2024-12-30T14:22:45.048568Z"
    },
    "trusted": true
   },
   "outputs": [],
   "source": [
    "holiday[holiday['description'].str.contains(\"Navidad\")]\n",
    "\n",
    "holiday[holiday['type'].str.contains(\"Work\")]"
   ]
  },
  {
   "cell_type": "code",
   "execution_count": 26,
   "metadata": {
    "ExecuteTime": {
     "end_time": "2024-12-25T10:45:39.230965Z",
     "start_time": "2024-12-25T10:45:39.219556Z"
    },
    "execution": {
     "iopub.execute_input": "2024-12-30T14:22:45.066125Z",
     "iopub.status.busy": "2024-12-30T14:22:45.065859Z",
     "iopub.status.idle": "2024-12-30T14:22:45.087788Z",
     "shell.execute_reply": "2024-12-30T14:22:45.086585Z",
     "shell.execute_reply.started": "2024-12-30T14:22:45.066103Z"
    },
    "trusted": true
   },
   "outputs": [],
   "source": [
    "holiday_national=holiday[holiday['locale'].str.contains(\"National\")]\n",
    "holiday_Regional=holiday[holiday['locale'].str.contains(\"Regional\")]\n",
    "holiday_Local=holiday[holiday['locale'].str.contains(\"Local\")]\n"
   ]
  },
  {
   "cell_type": "code",
   "execution_count": 27,
   "metadata": {
    "ExecuteTime": {
     "end_time": "2024-12-25T10:45:40.215214Z",
     "start_time": "2024-12-25T10:45:39.766105Z"
    },
    "execution": {
     "iopub.execute_input": "2024-12-30T14:22:45.089273Z",
     "iopub.status.busy": "2024-12-30T14:22:45.088873Z",
     "iopub.status.idle": "2024-12-30T14:22:45.584691Z",
     "shell.execute_reply": "2024-12-30T14:22:45.583518Z",
     "shell.execute_reply.started": "2024-12-30T14:22:45.089244Z"
    },
    "trusted": true
   },
   "outputs": [],
   "source": [
    "df=train.merge(stores,on='store_nbr',how='left')\n"
   ]
  },
  {
   "cell_type": "code",
   "execution_count": null,
   "metadata": {
    "ExecuteTime": {
     "end_time": "2024-12-25T10:45:40.509764Z",
     "start_time": "2024-12-25T10:45:40.338418Z"
    },
    "execution": {
     "iopub.execute_input": "2024-12-30T14:22:45.585838Z",
     "iopub.status.busy": "2024-12-30T14:22:45.585443Z",
     "iopub.status.idle": "2024-12-30T14:22:45.736595Z",
     "shell.execute_reply": "2024-12-30T14:22:45.735579Z",
     "shell.execute_reply.started": "2024-12-30T14:22:45.585801Z"
    },
    "trusted": true
   },
   "outputs": [],
   "source": [
    "df['state'].unique()"
   ]
  },
  {
   "cell_type": "code",
   "execution_count": null,
   "metadata": {
    "ExecuteTime": {
     "end_time": "2024-12-25T10:45:40.966878Z",
     "start_time": "2024-12-25T10:45:40.947758Z"
    },
    "execution": {
     "iopub.execute_input": "2024-12-30T14:22:45.737770Z",
     "iopub.status.busy": "2024-12-30T14:22:45.737497Z",
     "iopub.status.idle": "2024-12-30T14:22:45.758316Z",
     "shell.execute_reply": "2024-12-30T14:22:45.757147Z",
     "shell.execute_reply.started": "2024-12-30T14:22:45.737741Z"
    },
    "trusted": true
   },
   "outputs": [],
   "source": [
    "df"
   ]
  },
  {
   "cell_type": "code",
   "execution_count": null,
   "metadata": {
    "ExecuteTime": {
     "end_time": "2024-12-25T10:45:41.194593Z",
     "start_time": "2024-12-25T10:45:41.190777Z"
    },
    "trusted": true
   },
   "outputs": [],
   "source": []
  },
  {
   "cell_type": "code",
   "execution_count": null,
   "metadata": {
    "ExecuteTime": {
     "end_time": "2024-12-25T10:45:41.817996Z",
     "start_time": "2024-12-25T10:45:41.671180Z"
    },
    "execution": {
     "iopub.execute_input": "2024-12-30T14:22:45.759768Z",
     "iopub.status.busy": "2024-12-30T14:22:45.759421Z",
     "iopub.status.idle": "2024-12-30T14:22:45.912746Z",
     "shell.execute_reply": "2024-12-30T14:22:45.911501Z",
     "shell.execute_reply.started": "2024-12-30T14:22:45.759739Z"
    },
    "trusted": true
   },
   "outputs": [],
   "source": [
    "df['city'].unique()\n",
    "holiday_Local['locale_name'].unique()"
   ]
  },
  {
   "cell_type": "code",
   "execution_count": 31,
   "metadata": {
    "ExecuteTime": {
     "end_time": "2024-12-25T10:45:42.405598Z",
     "start_time": "2024-12-25T10:45:42.397850Z"
    },
    "execution": {
     "iopub.execute_input": "2024-12-30T14:22:45.914243Z",
     "iopub.status.busy": "2024-12-30T14:22:45.913888Z",
     "iopub.status.idle": "2024-12-30T14:22:45.918594Z",
     "shell.execute_reply": "2024-12-30T14:22:45.917468Z",
     "shell.execute_reply.started": "2024-12-30T14:22:45.914203Z"
    },
    "trusted": true
   },
   "outputs": [],
   "source": [
    "# all_subdivs_english"
   ]
  },
  {
   "cell_type": "code",
   "execution_count": null,
   "metadata": {
    "ExecuteTime": {
     "end_time": "2024-12-25T10:45:42.861627Z",
     "start_time": "2024-12-25T10:45:42.857873Z"
    },
    "trusted": true
   },
   "outputs": [],
   "source": []
  },
  {
   "cell_type": "code",
   "execution_count": 32,
   "metadata": {
    "ExecuteTime": {
     "end_time": "2024-12-25T10:45:43.353430Z",
     "start_time": "2024-12-25T10:45:43.130849Z"
    },
    "execution": {
     "iopub.execute_input": "2024-12-30T14:22:45.920461Z",
     "iopub.status.busy": "2024-12-30T14:22:45.919770Z",
     "iopub.status.idle": "2024-12-30T14:22:45.938212Z",
     "shell.execute_reply": "2024-12-30T14:22:45.936913Z",
     "shell.execute_reply.started": "2024-12-30T14:22:45.920413Z"
    },
    "trusted": true
   },
   "outputs": [],
   "source": [
    "# result = pd.Series(df['state'].unique()).isin(all_subdivs_english).all()\n",
    "# result"
   ]
  },
  {
   "cell_type": "code",
   "execution_count": 33,
   "metadata": {
    "ExecuteTime": {
     "end_time": "2024-12-25T10:45:43.673331Z",
     "start_time": "2024-12-25T10:45:43.548554Z"
    },
    "execution": {
     "iopub.execute_input": "2024-12-30T14:22:45.939692Z",
     "iopub.status.busy": "2024-12-30T14:22:45.939308Z",
     "iopub.status.idle": "2024-12-30T14:22:45.957453Z",
     "shell.execute_reply": "2024-12-30T14:22:45.955697Z",
     "shell.execute_reply.started": "2024-12-30T14:22:45.939645Z"
    },
    "trusted": true
   },
   "outputs": [],
   "source": [
    "# set(df['state'].unique())-set(all_subdivs_english)"
   ]
  },
  {
   "cell_type": "code",
   "execution_count": 34,
   "metadata": {
    "ExecuteTime": {
     "end_time": "2024-12-25T10:45:44.559139Z",
     "start_time": "2024-12-25T10:45:43.822575Z"
    },
    "execution": {
     "iopub.execute_input": "2024-12-30T14:22:45.959003Z",
     "iopub.status.busy": "2024-12-30T14:22:45.958610Z",
     "iopub.status.idle": "2024-12-30T14:22:46.894324Z",
     "shell.execute_reply": "2024-12-30T14:22:46.893094Z",
     "shell.execute_reply.started": "2024-12-30T14:22:45.958970Z"
    },
    "trusted": true
   },
   "outputs": [],
   "source": [
    "df=df.merge(ts,on=['date','store_nbr'],how='left')\n",
    "# df['date']=pd.to_datetime(df['date'])\n",
    "# df=df.merge(holiday[holiday['type'].str.contains(\"Work \")],on='date',how='right')"
   ]
  },
  {
   "cell_type": "code",
   "execution_count": null,
   "metadata": {
    "ExecuteTime": {
     "end_time": "2024-12-25T10:45:44.722369Z",
     "start_time": "2024-12-25T10:45:44.594571Z"
    },
    "execution": {
     "iopub.execute_input": "2024-12-30T14:22:46.895774Z",
     "iopub.status.busy": "2024-12-30T14:22:46.895393Z",
     "iopub.status.idle": "2024-12-30T14:22:47.054720Z",
     "shell.execute_reply": "2024-12-30T14:22:47.053565Z",
     "shell.execute_reply.started": "2024-12-30T14:22:46.895728Z"
    },
    "trusted": true
   },
   "outputs": [],
   "source": [
    "df['family'].unique()"
   ]
  },
  {
   "cell_type": "code",
   "execution_count": 36,
   "metadata": {
    "ExecuteTime": {
     "end_time": "2024-12-25T10:45:44.823170Z",
     "start_time": "2024-12-25T10:45:44.804706Z"
    },
    "execution": {
     "iopub.execute_input": "2024-12-30T14:22:47.056233Z",
     "iopub.status.busy": "2024-12-30T14:22:47.055817Z",
     "iopub.status.idle": "2024-12-30T14:22:47.060984Z",
     "shell.execute_reply": "2024-12-30T14:22:47.059682Z",
     "shell.execute_reply.started": "2024-12-30T14:22:47.056163Z"
    },
    "trusted": true
   },
   "outputs": [],
   "source": [
    "def plot_graphs(data):\n",
    "    sns.lineplot(data=data,x='date',y='sales')\n",
    "    "
   ]
  },
  {
   "cell_type": "code",
   "execution_count": 37,
   "metadata": {
    "ExecuteTime": {
     "end_time": "2024-12-25T10:45:45.047950Z",
     "start_time": "2024-12-25T10:45:45.042410Z"
    },
    "execution": {
     "iopub.execute_input": "2024-12-30T14:22:47.062684Z",
     "iopub.status.busy": "2024-12-30T14:22:47.062314Z",
     "iopub.status.idle": "2024-12-30T14:22:47.082885Z",
     "shell.execute_reply": "2024-12-30T14:22:47.081519Z",
     "shell.execute_reply.started": "2024-12-30T14:22:47.062623Z"
    },
    "trusted": true
   },
   "outputs": [],
   "source": [
    "# df.groupby(by=['store_nbr','family']).apply(plot_graphs)"
   ]
  },
  {
   "cell_type": "code",
   "execution_count": null,
   "metadata": {
    "ExecuteTime": {
     "end_time": "2024-12-25T10:45:45.225332Z",
     "start_time": "2024-12-25T10:45:45.203190Z"
    },
    "execution": {
     "iopub.execute_input": "2024-12-30T14:22:47.084471Z",
     "iopub.status.busy": "2024-12-30T14:22:47.084010Z",
     "iopub.status.idle": "2024-12-30T14:22:47.111797Z",
     "shell.execute_reply": "2024-12-30T14:22:47.110654Z",
     "shell.execute_reply.started": "2024-12-30T14:22:47.084429Z"
    },
    "trusted": true
   },
   "outputs": [],
   "source": [
    "my_test"
   ]
  },
  {
   "cell_type": "code",
   "execution_count": 39,
   "metadata": {
    "ExecuteTime": {
     "end_time": "2024-12-25T10:45:45.877273Z",
     "start_time": "2024-12-25T10:45:45.424804Z"
    },
    "execution": {
     "iopub.execute_input": "2024-12-30T14:22:47.113406Z",
     "iopub.status.busy": "2024-12-30T14:22:47.112957Z",
     "iopub.status.idle": "2024-12-30T14:22:47.418779Z",
     "shell.execute_reply": "2024-12-30T14:22:47.417670Z",
     "shell.execute_reply.started": "2024-12-30T14:22:47.113366Z"
    },
    "trusted": true
   },
   "outputs": [],
   "source": [
    "date_data=df.groupby(by=['store_nbr','family'])['date'].agg(['min','max']).reset_index()"
   ]
  },
  {
   "cell_type": "code",
   "execution_count": 40,
   "metadata": {
    "ExecuteTime": {
     "end_time": "2024-12-25T10:45:46.206490Z",
     "start_time": "2024-12-25T10:45:46.200615Z"
    },
    "execution": {
     "iopub.execute_input": "2024-12-30T14:22:47.429054Z",
     "iopub.status.busy": "2024-12-30T14:22:47.428220Z",
     "iopub.status.idle": "2024-12-30T14:22:47.437783Z",
     "shell.execute_reply": "2024-12-30T14:22:47.435883Z",
     "shell.execute_reply.started": "2024-12-30T14:22:47.429016Z"
    },
    "trusted": true
   },
   "outputs": [],
   "source": [
    "date_data['diff']=np.where(date_data['min']!=date_data['max'],1,0)"
   ]
  },
  {
   "cell_type": "code",
   "execution_count": null,
   "metadata": {
    "ExecuteTime": {
     "end_time": "2024-12-25T10:45:46.619578Z",
     "start_time": "2024-12-25T10:45:46.591685Z"
    },
    "execution": {
     "iopub.execute_input": "2024-12-30T14:22:47.442568Z",
     "iopub.status.busy": "2024-12-30T14:22:47.442121Z",
     "iopub.status.idle": "2024-12-30T14:22:47.453948Z",
     "shell.execute_reply": "2024-12-30T14:22:47.452563Z",
     "shell.execute_reply.started": "2024-12-30T14:22:47.442529Z"
    },
    "trusted": true
   },
   "outputs": [],
   "source": [
    "date_data['min'].unique(),date_data['max'].unique()"
   ]
  },
  {
   "cell_type": "code",
   "execution_count": null,
   "metadata": {
    "ExecuteTime": {
     "end_time": "2024-12-25T10:45:46.995763Z",
     "start_time": "2024-12-25T10:45:46.983436Z"
    },
    "execution": {
     "iopub.execute_input": "2024-12-30T14:22:47.455391Z",
     "iopub.status.busy": "2024-12-30T14:22:47.454995Z",
     "iopub.status.idle": "2024-12-30T14:22:47.482383Z",
     "shell.execute_reply": "2024-12-30T14:22:47.481288Z",
     "shell.execute_reply.started": "2024-12-30T14:22:47.455347Z"
    },
    "trusted": true
   },
   "outputs": [],
   "source": [
    "date_data"
   ]
  },
  {
   "cell_type": "code",
   "execution_count": 43,
   "metadata": {
    "ExecuteTime": {
     "end_time": "2024-12-25T10:45:47.278111Z",
     "start_time": "2024-12-25T10:45:47.271046Z"
    },
    "execution": {
     "iopub.execute_input": "2024-12-30T14:22:47.483775Z",
     "iopub.status.busy": "2024-12-30T14:22:47.483456Z",
     "iopub.status.idle": "2024-12-30T14:22:47.502693Z",
     "shell.execute_reply": "2024-12-30T14:22:47.501389Z",
     "shell.execute_reply.started": "2024-12-30T14:22:47.483732Z"
    },
    "trusted": true
   },
   "outputs": [],
   "source": [
    "# df['default_rank'] = df.groupby(['store_nbr', 'family']).cumcount() + 1"
   ]
  },
  {
   "cell_type": "code",
   "execution_count": null,
   "metadata": {
    "ExecuteTime": {
     "end_time": "2024-12-25T10:45:47.571315Z",
     "start_time": "2024-12-25T10:45:47.553696Z"
    },
    "execution": {
     "iopub.execute_input": "2024-12-30T14:22:47.504467Z",
     "iopub.status.busy": "2024-12-30T14:22:47.504014Z",
     "iopub.status.idle": "2024-12-30T14:22:47.538192Z",
     "shell.execute_reply": "2024-12-30T14:22:47.537133Z",
     "shell.execute_reply.started": "2024-12-30T14:22:47.504406Z"
    },
    "trusted": true
   },
   "outputs": [],
   "source": [
    "df"
   ]
  },
  {
   "cell_type": "code",
   "execution_count": 45,
   "metadata": {
    "ExecuteTime": {
     "end_time": "2024-12-25T10:45:48.629997Z",
     "start_time": "2024-12-25T10:45:48.297555Z"
    },
    "execution": {
     "iopub.execute_input": "2024-12-30T14:22:47.539728Z",
     "iopub.status.busy": "2024-12-30T14:22:47.539335Z",
     "iopub.status.idle": "2024-12-30T14:22:47.829334Z",
     "shell.execute_reply": "2024-12-30T14:22:47.828305Z",
     "shell.execute_reply.started": "2024-12-30T14:22:47.539689Z"
    },
    "trusted": true
   },
   "outputs": [],
   "source": [
    "unique_data=df.groupby(by=['store_nbr','family'])['date'].agg(['min','max']).reset_index()"
   ]
  },
  {
   "cell_type": "code",
   "execution_count": 46,
   "metadata": {
    "ExecuteTime": {
     "end_time": "2024-12-25T10:45:49.308114Z",
     "start_time": "2024-12-25T10:45:49.301122Z"
    },
    "execution": {
     "iopub.execute_input": "2024-12-30T14:22:47.830731Z",
     "iopub.status.busy": "2024-12-30T14:22:47.830414Z",
     "iopub.status.idle": "2024-12-30T14:22:47.835922Z",
     "shell.execute_reply": "2024-12-30T14:22:47.834928Z",
     "shell.execute_reply.started": "2024-12-30T14:22:47.830697Z"
    },
    "trusted": true
   },
   "outputs": [],
   "source": [
    "unique_data['default_rank'] = unique_data.index+1"
   ]
  },
  {
   "cell_type": "code",
   "execution_count": 47,
   "metadata": {
    "ExecuteTime": {
     "end_time": "2024-12-25T10:45:49.534981Z",
     "start_time": "2024-12-25T10:45:49.524451Z"
    },
    "execution": {
     "iopub.execute_input": "2024-12-30T14:22:47.837038Z",
     "iopub.status.busy": "2024-12-30T14:22:47.836780Z",
     "iopub.status.idle": "2024-12-30T14:22:47.857822Z",
     "shell.execute_reply": "2024-12-30T14:22:47.856571Z",
     "shell.execute_reply.started": "2024-12-30T14:22:47.837015Z"
    },
    "trusted": true
   },
   "outputs": [],
   "source": [
    "unique_data['comb']=unique_data['store_nbr'].astype(str)+str('_')+unique_data['family'].astype(str)"
   ]
  },
  {
   "cell_type": "code",
   "execution_count": null,
   "metadata": {
    "ExecuteTime": {
     "end_time": "2024-12-25T10:45:49.866065Z",
     "start_time": "2024-12-25T10:45:49.833849Z"
    },
    "execution": {
     "iopub.execute_input": "2024-12-30T14:22:47.859222Z",
     "iopub.status.busy": "2024-12-30T14:22:47.858872Z",
     "iopub.status.idle": "2024-12-30T14:22:47.888453Z",
     "shell.execute_reply": "2024-12-30T14:22:47.887053Z",
     "shell.execute_reply.started": "2024-12-30T14:22:47.859161Z"
    },
    "trusted": true
   },
   "outputs": [],
   "source": [
    "unique_data"
   ]
  },
  {
   "cell_type": "code",
   "execution_count": 49,
   "metadata": {
    "ExecuteTime": {
     "end_time": "2024-12-25T10:45:55.577009Z",
     "start_time": "2024-12-25T10:45:50.181818Z"
    },
    "execution": {
     "iopub.execute_input": "2024-12-30T14:22:47.889727Z",
     "iopub.status.busy": "2024-12-30T14:22:47.889327Z",
     "iopub.status.idle": "2024-12-30T14:22:50.042094Z",
     "shell.execute_reply": "2024-12-30T14:22:50.041039Z",
     "shell.execute_reply.started": "2024-12-30T14:22:47.889693Z"
    },
    "trusted": true
   },
   "outputs": [],
   "source": [
    "df['comb']=df['store_nbr'].astype(str)+str('_')+df['family'].astype(str)"
   ]
  },
  {
   "cell_type": "code",
   "execution_count": 50,
   "metadata": {
    "ExecuteTime": {
     "end_time": "2024-12-25T10:46:00.219383Z",
     "start_time": "2024-12-25T10:45:55.619435Z"
    },
    "execution": {
     "iopub.execute_input": "2024-12-30T14:22:50.043272Z",
     "iopub.status.busy": "2024-12-30T14:22:50.042985Z",
     "iopub.status.idle": "2024-12-30T14:22:51.607711Z",
     "shell.execute_reply": "2024-12-30T14:22:51.606295Z",
     "shell.execute_reply.started": "2024-12-30T14:22:50.043246Z"
    },
    "trusted": true
   },
   "outputs": [],
   "source": [
    "df=unique_data.merge(df,on=['comb'],how='right')"
   ]
  },
  {
   "cell_type": "code",
   "execution_count": null,
   "metadata": {
    "ExecuteTime": {
     "end_time": "2024-12-25T10:46:00.265307Z",
     "start_time": "2024-12-25T10:46:00.256923Z"
    },
    "execution": {
     "iopub.execute_input": "2024-12-30T14:22:51.609101Z",
     "iopub.status.busy": "2024-12-30T14:22:51.608814Z",
     "iopub.status.idle": "2024-12-30T14:22:51.615272Z",
     "shell.execute_reply": "2024-12-30T14:22:51.614249Z",
     "shell.execute_reply.started": "2024-12-30T14:22:51.609076Z"
    },
    "trusted": true
   },
   "outputs": [],
   "source": [
    "df.columns"
   ]
  },
  {
   "cell_type": "code",
   "execution_count": 52,
   "metadata": {
    "ExecuteTime": {
     "end_time": "2024-12-25T10:46:08.445473Z",
     "start_time": "2024-12-25T10:46:00.404588Z"
    },
    "execution": {
     "iopub.execute_input": "2024-12-30T14:22:51.616954Z",
     "iopub.status.busy": "2024-12-30T14:22:51.616497Z",
     "iopub.status.idle": "2024-12-30T14:22:52.890608Z",
     "shell.execute_reply": "2024-12-30T14:22:52.889736Z",
     "shell.execute_reply.started": "2024-12-30T14:22:51.616925Z"
    },
    "trusted": true
   },
   "outputs": [],
   "source": [
    "df=df[['store_nbr_x', 'family_x', 'min', 'max', 'default_rank', 'comb', 'id',\n",
    "       'date', 'sales', 'onpromotion', 'city',\n",
    "       'state', 'store_type', 'cluster', 'transactions']].rename(columns={'store_nbr_x':'store_nbr', 'family_x':'family'})"
   ]
  },
  {
   "cell_type": "code",
   "execution_count": null,
   "metadata": {
    "ExecuteTime": {
     "end_time": "2024-12-25T10:46:08.589096Z",
     "start_time": "2024-12-25T10:46:08.532093Z"
    },
    "execution": {
     "iopub.execute_input": "2024-12-30T14:22:52.891859Z",
     "iopub.status.busy": "2024-12-30T14:22:52.891563Z",
     "iopub.status.idle": "2024-12-30T14:22:52.917865Z",
     "shell.execute_reply": "2024-12-30T14:22:52.916509Z",
     "shell.execute_reply.started": "2024-12-30T14:22:52.891833Z"
    },
    "trusted": true
   },
   "outputs": [],
   "source": [
    "len(df['default_rank'].unique())"
   ]
  },
  {
   "cell_type": "code",
   "execution_count": null,
   "metadata": {
    "ExecuteTime": {
     "end_time": "2024-12-25T10:46:08.809944Z",
     "start_time": "2024-12-25T10:46:08.758333Z"
    },
    "execution": {
     "iopub.execute_input": "2024-12-30T14:22:52.919469Z",
     "iopub.status.busy": "2024-12-30T14:22:52.919116Z",
     "iopub.status.idle": "2024-12-30T14:22:52.941975Z",
     "shell.execute_reply": "2024-12-30T14:22:52.940656Z",
     "shell.execute_reply.started": "2024-12-30T14:22:52.919441Z"
    },
    "trusted": true
   },
   "outputs": [],
   "source": [
    "df"
   ]
  },
  {
   "cell_type": "code",
   "execution_count": 55,
   "metadata": {
    "ExecuteTime": {
     "end_time": "2024-12-25T10:46:08.964489Z",
     "start_time": "2024-12-25T10:46:08.955032Z"
    },
    "execution": {
     "iopub.execute_input": "2024-12-30T14:22:52.943715Z",
     "iopub.status.busy": "2024-12-30T14:22:52.943336Z",
     "iopub.status.idle": "2024-12-30T14:22:52.960059Z",
     "shell.execute_reply": "2024-12-30T14:22:52.958887Z",
     "shell.execute_reply.started": "2024-12-30T14:22:52.943686Z"
    },
    "trusted": true
   },
   "outputs": [],
   "source": [
    "def filter_data_for_group(df,groupno,group_value=None):\n",
    "    if groupno:\n",
    "        new_data=df[df['default_rank']==groupno]\n",
    "    elif group_value:\n",
    "        new_data=df[df['comb']==group_value]\n",
    "    return new_data"
   ]
  },
  {
   "cell_type": "code",
   "execution_count": null,
   "metadata": {
    "ExecuteTime": {
     "end_time": "2024-12-25T10:46:09.251729Z",
     "start_time": "2024-12-25T10:46:09.205480Z"
    },
    "execution": {
     "iopub.execute_input": "2024-12-30T14:22:52.961667Z",
     "iopub.status.busy": "2024-12-30T14:22:52.961325Z",
     "iopub.status.idle": "2024-12-30T14:22:53.002272Z",
     "shell.execute_reply": "2024-12-30T14:22:53.001068Z",
     "shell.execute_reply.started": "2024-12-30T14:22:52.961621Z"
    },
    "trusted": true
   },
   "outputs": [],
   "source": [
    "filter_data_for_group(df=df,groupno=56)"
   ]
  },
  {
   "cell_type": "code",
   "execution_count": null,
   "metadata": {
    "ExecuteTime": {
     "end_time": "2024-12-25T10:46:10.775403Z",
     "start_time": "2024-12-25T10:46:10.120476Z"
    },
    "execution": {
     "iopub.execute_input": "2024-12-30T14:22:53.003794Z",
     "iopub.status.busy": "2024-12-30T14:22:53.003461Z",
     "iopub.status.idle": "2024-12-30T14:22:53.398971Z",
     "shell.execute_reply": "2024-12-30T14:22:53.397755Z",
     "shell.execute_reply.started": "2024-12-30T14:22:53.003762Z"
    },
    "trusted": true
   },
   "outputs": [],
   "source": [
    "filter_data_for_group(df=df,groupno=56).groupby(by=['store_nbr','family']).apply(plot_graphs)"
   ]
  },
  {
   "cell_type": "code",
   "execution_count": null,
   "metadata": {
    "ExecuteTime": {
     "end_time": "2024-12-25T10:46:12.705285Z",
     "start_time": "2024-12-25T10:46:12.686486Z"
    },
    "execution": {
     "iopub.execute_input": "2024-12-30T14:22:53.400504Z",
     "iopub.status.busy": "2024-12-30T14:22:53.400133Z",
     "iopub.status.idle": "2024-12-30T14:22:53.415397Z",
     "shell.execute_reply": "2024-12-30T14:22:53.414068Z",
     "shell.execute_reply.started": "2024-12-30T14:22:53.400473Z"
    },
    "trusted": true
   },
   "outputs": [],
   "source": [
    "df.info()"
   ]
  },
  {
   "cell_type": "code",
   "execution_count": null,
   "metadata": {
    "ExecuteTime": {
     "end_time": "2024-12-25T10:46:14.669442Z",
     "start_time": "2024-12-25T10:46:14.632866Z"
    },
    "execution": {
     "iopub.execute_input": "2024-12-30T14:22:53.417005Z",
     "iopub.status.busy": "2024-12-30T14:22:53.416623Z",
     "iopub.status.idle": "2024-12-30T14:22:53.445333Z",
     "shell.execute_reply": "2024-12-30T14:22:53.444058Z",
     "shell.execute_reply.started": "2024-12-30T14:22:53.416959Z"
    },
    "trusted": true
   },
   "outputs": [],
   "source": [
    "holiday.info()\n",
    "holiday.set_index('date',inplace=True)"
   ]
  },
  {
   "cell_type": "code",
   "execution_count": null,
   "metadata": {
    "ExecuteTime": {
     "end_time": "2024-12-25T10:46:15.405428Z",
     "start_time": "2024-12-25T10:46:15.398201Z"
    },
    "execution": {
     "iopub.execute_input": "2024-12-30T14:22:53.446749Z",
     "iopub.status.busy": "2024-12-30T14:22:53.446440Z",
     "iopub.status.idle": "2024-12-30T14:22:53.473686Z",
     "shell.execute_reply": "2024-12-30T14:22:53.472398Z",
     "shell.execute_reply.started": "2024-12-30T14:22:53.446720Z"
    },
    "trusted": true
   },
   "outputs": [],
   "source": [
    "holiday.index"
   ]
  },
  {
   "cell_type": "code",
   "execution_count": null,
   "metadata": {
    "ExecuteTime": {
     "end_time": "2024-12-25T10:46:15.835066Z",
     "start_time": "2024-12-25T10:46:15.825012Z"
    },
    "execution": {
     "iopub.execute_input": "2024-12-30T14:22:53.475408Z",
     "iopub.status.busy": "2024-12-30T14:22:53.474929Z",
     "iopub.status.idle": "2024-12-30T14:22:53.492932Z",
     "shell.execute_reply": "2024-12-30T14:22:53.491699Z",
     "shell.execute_reply.started": "2024-12-30T14:22:53.475349Z"
    },
    "trusted": true
   },
   "outputs": [],
   "source": [
    "holiday.type.unique()"
   ]
  },
  {
   "cell_type": "code",
   "execution_count": 62,
   "metadata": {
    "ExecuteTime": {
     "end_time": "2024-12-25T10:46:16.057678Z",
     "start_time": "2024-12-25T10:46:16.044866Z"
    },
    "execution": {
     "iopub.execute_input": "2024-12-30T14:22:53.494463Z",
     "iopub.status.busy": "2024-12-30T14:22:53.494112Z",
     "iopub.status.idle": "2024-12-30T14:22:53.511528Z",
     "shell.execute_reply": "2024-12-30T14:22:53.510276Z",
     "shell.execute_reply.started": "2024-12-30T14:22:53.494435Z"
    },
    "trusted": true
   },
   "outputs": [],
   "source": [
    "def filter_data_year(data, year):\n",
    "    # print(type(year))\n",
    "    \n",
    "    # Check if the year is a list with two elements\n",
    "    if isinstance(year, list):  # Use isinstance instead of type() to check list\n",
    "        data = data[(data.index.year >= year[0]) & (data.index.year <= year[1])]  # Use & instead of and for element-wise comparison\n",
    "        # print('using list filter')\n",
    "    else:\n",
    "        data = data[data.index.year >= year]\n",
    "    \n",
    "    return data\n",
    "\n",
    "def filter_data_month(data, month):\n",
    "    # print(type(year))\n",
    "    \n",
    "    # Check if the year is a list with two elements\n",
    "    if isinstance(month, list):  # Use isinstance instead of type() to check list\n",
    "        data = data[(data.index >= month[0]) & (data.index <= month[1])]  # Use & instead of and for element-wise comparison\n",
    "        # print('using list filter')\n",
    "    else:\n",
    "        data = data[data.index >= month]\n",
    "    \n",
    "    return data\n"
   ]
  },
  {
   "cell_type": "code",
   "execution_count": null,
   "metadata": {
    "ExecuteTime": {
     "end_time": "2024-12-25T10:46:16.597286Z",
     "start_time": "2024-12-25T10:46:16.587654Z"
    },
    "execution": {
     "iopub.execute_input": "2024-12-30T14:22:53.513087Z",
     "iopub.status.busy": "2024-12-30T14:22:53.512676Z",
     "iopub.status.idle": "2024-12-30T14:22:53.533223Z",
     "shell.execute_reply": "2024-12-30T14:22:53.532123Z",
     "shell.execute_reply.started": "2024-12-30T14:22:53.513055Z"
    },
    "trusted": true
   },
   "outputs": [],
   "source": [
    "holiday['category'].unique()"
   ]
  },
  {
   "cell_type": "code",
   "execution_count": null,
   "metadata": {
    "ExecuteTime": {
     "end_time": "2024-12-25T10:46:16.842595Z",
     "start_time": "2024-12-25T10:46:16.825037Z"
    },
    "execution": {
     "iopub.execute_input": "2024-12-30T14:22:53.535033Z",
     "iopub.status.busy": "2024-12-30T14:22:53.534592Z",
     "iopub.status.idle": "2024-12-30T14:22:53.564676Z",
     "shell.execute_reply": "2024-12-30T14:22:53.563579Z",
     "shell.execute_reply.started": "2024-12-30T14:22:53.534969Z"
    },
    "trusted": true
   },
   "outputs": [],
   "source": [
    "holiday_Local"
   ]
  },
  {
   "cell_type": "code",
   "execution_count": null,
   "metadata": {
    "ExecuteTime": {
     "end_time": "2024-12-25T10:46:17.189699Z",
     "start_time": "2024-12-25T10:46:17.160210Z"
    },
    "execution": {
     "iopub.execute_input": "2024-12-30T14:22:53.566204Z",
     "iopub.status.busy": "2024-12-30T14:22:53.565870Z",
     "iopub.status.idle": "2024-12-30T14:22:53.595034Z",
     "shell.execute_reply": "2024-12-30T14:22:53.593761Z",
     "shell.execute_reply.started": "2024-12-30T14:22:53.566153Z"
    },
    "trusted": true
   },
   "outputs": [],
   "source": [
    "df.head()"
   ]
  },
  {
   "cell_type": "code",
   "execution_count": 66,
   "metadata": {
    "ExecuteTime": {
     "start_time": "2024-12-25T10:46:17.809242Z"
    },
    "execution": {
     "iopub.execute_input": "2024-12-30T14:22:53.596959Z",
     "iopub.status.busy": "2024-12-30T14:22:53.596584Z",
     "iopub.status.idle": "2024-12-30T14:23:09.757460Z",
     "shell.execute_reply": "2024-12-30T14:23:09.754655Z",
     "shell.execute_reply.started": "2024-12-30T14:22:53.596926Z"
    },
    "trusted": true
   },
   "outputs": [],
   "source": [
    "df_hol=df.merge(holiday_Local.reset_index(),left_on=['date','city'],right_on=['date','locale_name'],how='left')\n",
    "df_hol['local_holiday']=np.where(df_hol['locale_name'].isna(),False,True)\n",
    "df_hol=df_hol[df.columns.to_list()+['local_holiday']]\n",
    "df_hol=df_hol.merge(holiday_Regional.reset_index(),left_on=['date','state'],right_on=['date','locale_name'],how='left')\n",
    "df_hol['regional_holiday']=np.where(df_hol['locale_name'].isna(),False,True)\n",
    "df_hol=df_hol[df.columns.to_list()+['local_holiday','regional_holiday']]\n",
    "df_hol=df_hol.merge(holiday_national.reset_index(),left_on=['date'],right_on=['date'],how='left')\n",
    "df_hol['national_holiday']=np.where(df_hol['locale_name'].isna(),False,True)\n",
    "# df_hol=df_hol[df.columns.to_list()+['local_holiday','regional_holiday','national_holiday']]\n",
    "df_hol['holiday_true']=df_hol['local_holiday'] | df_hol['regional_holiday'] |df_hol['national_holiday']"
   ]
  },
  {
   "cell_type": "code",
   "execution_count": null,
   "metadata": {
    "ExecuteTime": {
     "end_time": "2024-12-25T04:32:55.629412Z",
     "start_time": "2024-12-25T04:32:55.625544Z"
    },
    "trusted": true
   },
   "outputs": [],
   "source": []
  },
  {
   "cell_type": "code",
   "execution_count": null,
   "metadata": {
    "ExecuteTime": {
     "end_time": "2024-12-25T04:32:55.681436Z",
     "start_time": "2024-12-25T04:32:55.677724Z"
    },
    "trusted": true
   },
   "outputs": [],
   "source": []
  },
  {
   "cell_type": "code",
   "execution_count": null,
   "metadata": {
    "ExecuteTime": {
     "end_time": "2024-12-25T04:32:55.740998Z",
     "start_time": "2024-12-25T04:32:55.735405Z"
    },
    "trusted": true
   },
   "outputs": [],
   "source": []
  },
  {
   "cell_type": "code",
   "execution_count": 67,
   "metadata": {
    "ExecuteTime": {
     "end_time": "2024-12-25T04:35:17.367785Z",
     "start_time": "2024-12-25T04:32:55.847745Z"
    },
    "execution": {
     "iopub.execute_input": "2024-12-30T14:23:09.761639Z",
     "iopub.status.busy": "2024-12-30T14:23:09.760451Z",
     "iopub.status.idle": "2024-12-30T14:23:09.774926Z",
     "shell.execute_reply": "2024-12-30T14:23:09.769439Z",
     "shell.execute_reply.started": "2024-12-30T14:23:09.761512Z"
    },
    "trusted": true
   },
   "outputs": [],
   "source": [
    "# # df_hol['_merge'].unique()\n",
    "# # df_hol.to_csv('sales_holiday.csv',index=False)\n",
    "# df_hol.set_index('date').index.year.unique().to_list()"
   ]
  },
  {
   "cell_type": "code",
   "execution_count": null,
   "metadata": {
    "ExecuteTime": {
     "end_time": "2024-12-25T04:35:17.618798Z",
     "start_time": "2024-12-25T04:35:17.568177Z"
    },
    "execution": {
     "iopub.execute_input": "2024-12-30T14:23:09.780505Z",
     "iopub.status.busy": "2024-12-30T14:23:09.778732Z",
     "iopub.status.idle": "2024-12-30T14:23:09.912970Z",
     "shell.execute_reply": "2024-12-30T14:23:09.909077Z",
     "shell.execute_reply.started": "2024-12-30T14:23:09.780325Z"
    },
    "trusted": true
   },
   "outputs": [],
   "source": [
    "df_hol.head()"
   ]
  },
  {
   "cell_type": "code",
   "execution_count": 69,
   "metadata": {
    "ExecuteTime": {
     "end_time": "2024-12-25T04:35:18.016397Z",
     "start_time": "2024-12-25T04:35:18.010925Z"
    },
    "execution": {
     "iopub.execute_input": "2024-12-30T14:23:09.919277Z",
     "iopub.status.busy": "2024-12-30T14:23:09.917251Z",
     "iopub.status.idle": "2024-12-30T14:23:09.932640Z",
     "shell.execute_reply": "2024-12-30T14:23:09.928914Z",
     "shell.execute_reply.started": "2024-12-30T14:23:09.919004Z"
    },
    "trusted": true
   },
   "outputs": [],
   "source": [
    "# pd.notna(df_hol[df_hol['_merge']=='left_only']['store_nbr']).unique()"
   ]
  },
  {
   "cell_type": "code",
   "execution_count": null,
   "metadata": {
    "ExecuteTime": {
     "end_time": "2024-12-25T04:35:18.618578Z",
     "start_time": "2024-12-25T04:35:18.571136Z"
    },
    "execution": {
     "iopub.execute_input": "2024-12-30T14:23:09.938652Z",
     "iopub.status.busy": "2024-12-30T14:23:09.936976Z",
     "iopub.status.idle": "2024-12-30T14:23:09.991231Z",
     "shell.execute_reply": "2024-12-30T14:23:09.986849Z",
     "shell.execute_reply.started": "2024-12-30T14:23:09.938588Z"
    },
    "trusted": true
   },
   "outputs": [],
   "source": [
    "df_hol.info()"
   ]
  },
  {
   "cell_type": "code",
   "execution_count": null,
   "metadata": {
    "ExecuteTime": {
     "end_time": "2024-12-25T04:35:19.090251Z",
     "start_time": "2024-12-25T04:35:19.085514Z"
    },
    "trusted": true
   },
   "outputs": [],
   "source": []
  },
  {
   "cell_type": "code",
   "execution_count": null,
   "metadata": {
    "ExecuteTime": {
     "end_time": "2024-12-25T04:35:19.349580Z",
     "start_time": "2024-12-25T04:35:19.344424Z"
    },
    "trusted": true
   },
   "outputs": [],
   "source": []
  },
  {
   "cell_type": "code",
   "execution_count": null,
   "metadata": {
    "ExecuteTime": {
     "end_time": "2024-12-25T04:35:24.601611Z",
     "start_time": "2024-12-25T04:35:19.491998Z"
    },
    "execution": {
     "iopub.execute_input": "2024-12-30T14:23:09.996081Z",
     "iopub.status.busy": "2024-12-30T14:23:09.995102Z",
     "iopub.status.idle": "2024-12-30T14:23:14.602558Z",
     "shell.execute_reply": "2024-12-30T14:23:14.599714Z",
     "shell.execute_reply.started": "2024-12-30T14:23:09.996009Z"
    },
    "trusted": true
   },
   "outputs": [],
   "source": [
    "# data=df_hol[df_hol['category_reg']=='Dia'].set_index('date')\n",
    "data=df_hol.set_index('date')\n",
    "data=data[data.index.year == 2017]\n",
    "data=data[data['holiday_true']==True]\n",
    "data=data[data['default_rank']==55]\n",
    "data.shape"
   ]
  },
  {
   "cell_type": "code",
   "execution_count": null,
   "metadata": {
    "ExecuteTime": {
     "end_time": "2024-12-25T04:35:27.027644Z",
     "start_time": "2024-12-25T04:35:24.664059Z"
    },
    "execution": {
     "iopub.execute_input": "2024-12-30T14:23:14.606559Z",
     "iopub.status.busy": "2024-12-30T14:23:14.606009Z",
     "iopub.status.idle": "2024-12-30T14:23:16.049257Z",
     "shell.execute_reply": "2024-12-30T14:23:16.047840Z",
     "shell.execute_reply.started": "2024-12-30T14:23:14.606530Z"
    },
    "trusted": true
   },
   "outputs": [],
   "source": [
    "year_range=[2016,2016]\n",
    "\n",
    "# Filter data to include only rows for years greater than 2015\n",
    "filtered_data = filter_data_for_group(df=df_hol, groupno=9).set_index('date')\n",
    "\n",
    "# Resample the data by month (MS - Month Start) and sum the values for 'sales' and 'onpromotion'\n",
    "filtered_data.resample('MS')['sales', 'onpromotion'].sum()\n",
    "filtered_data = filter_data_year(filtered_data,year_range)  # Filter by year\n",
    "\n",
    "filtered_data.plot(y=['sales', 'onpromotion'], figsize=(15, 13))\n",
    "\n",
    "\n",
    "unique_colors = ['red', 'green', 'blue', 'orange', 'purple', 'pink', 'brown']  # Replace with your actual colors list\n",
    "\n",
    "# # Create a dictionary for color-to-label mapping\n",
    "# color_to_label = {color: hol_day for color, hol_day in zip(unique_colors, holiday['category_reg'].unique())}\n",
    "\n",
    "# for color, hol_day in zip(unique_colors, holiday['category_reg'].unique()):\n",
    "#     holiday_data = holiday[holiday['category_reg'] == hol_day]\n",
    "#     holiday_data = filter_data_year(holiday_data,year_range)\n",
    "#     for date in holiday_data.index:\n",
    "#         # Plot each vertical line and assign a label to the color\n",
    "#         plt.axvline(x=date, color=color, linestyle='--', label=color_to_label[color] if date == holiday_data.index[0] else \"\")\n",
    "\n",
    "# # Display the legend\n",
    "# plt.legend(title='Holiday Types', loc='upper right')\n",
    "filtered_holiday_data=filtered_data[filtered_data['holiday_true']==True]\n",
    "color_to_label = {color: hol_day for color, hol_day in zip(unique_colors, filtered_holiday_data['category_reg'].unique())}\n",
    "# print(color_to_label)\n",
    "\n",
    "for color, hol_day in zip(unique_colors, filtered_holiday_data['category_reg'].unique()):\n",
    "    filtered_holiday = filtered_holiday_data[filtered_holiday_data['category_reg'] == hol_day]\n",
    "    # print(filtered_holiday_data)\n",
    "    # print(filtered_holiday_data.shape)\n",
    "    for date in filtered_holiday.index:\n",
    "        # print(date)\n",
    "        plt.axvline(x=date, color=color, linestyle='--', label=color_to_label[color]  if date == filtered_holiday.index[0] else \"\")\n",
    "    \n",
    "plt.legend(title='Holiday Types', loc='upper right')\n",
    "plt.show()"
   ]
  },
  {
   "cell_type": "code",
   "execution_count": null,
   "metadata": {
    "ExecuteTime": {
     "end_time": "2024-12-25T04:35:29.353266Z",
     "start_time": "2024-12-25T04:35:27.079394Z"
    },
    "execution": {
     "iopub.execute_input": "2024-12-30T14:23:16.050747Z",
     "iopub.status.busy": "2024-12-30T14:23:16.050382Z",
     "iopub.status.idle": "2024-12-30T14:23:16.745587Z",
     "shell.execute_reply": "2024-12-30T14:23:16.744329Z",
     "shell.execute_reply.started": "2024-12-30T14:23:16.050716Z"
    },
    "trusted": true
   },
   "outputs": [],
   "source": [
    "year_range=[2016,2016]\n",
    "month_range=['2016-01-01','2016-12-31']\n",
    "filtered_data=filter_data_for_group(df=df_hol,groupno=9).set_index('date')\n",
    "filtered_data=filter_data_month(filtered_data,month_range)\n",
    "filtered_data.plot(y=['sales','onpromotion'],figsize=(15,13))\n",
    "\n",
    "\n",
    "unique_colors = ['red', 'green', 'blue', 'orange', 'purple', 'pink', 'brown']  # Replace with your actual colors list\n",
    "\n",
    "# # Create a dictionary for color-to-label mapping\n",
    "# color_to_label = {color: hol_day for color, hol_day in zip(unique_colors, holiday['category_reg'].unique())}\n",
    "\n",
    "# for color, hol_day in zip(unique_colors, holiday['category_reg'].unique()):\n",
    "#     holiday_data = holiday[holiday['category_reg'] == hol_day]\n",
    "#     holiday_data = filter_data_year(holiday_data,year_range)\n",
    "#     for date in holiday_data.index:\n",
    "#         # Plot each vertical line and assign a label to the color\n",
    "#         plt.axvline(x=date, color=color, linestyle='--', label=color_to_label[color] if date == holiday_data.index[0] else \"\")\n",
    "\n",
    "# # Display the legend\n",
    "# plt.legend(title='Holiday Types', loc='upper right')\n",
    "\n",
    "filtered_holiday_data=filtered_data[filtered_data['holiday_true']==True]\n",
    "color_to_label = {color: hol_day for color, hol_day in zip(unique_colors, filtered_holiday_data['category_reg'].unique())}\n",
    "# print(color_to_label)\n",
    "count=0\n",
    "for color, hol_day in zip(unique_colors, filtered_holiday_data['category_reg'].unique()):\n",
    "    filtered_holiday = filtered_holiday_data[filtered_holiday_data['category_reg'] == hol_day]\n",
    "    # print(filtered_holiday)\n",
    "    # print(filtered_holiday.shape)\n",
    "    for date in filtered_holiday.index:\n",
    "        # print(date)\n",
    "        \n",
    "        plt.axvline(x=date, color=color, linestyle='--', label=color_to_label[color]  if date == filtered_holiday.index[0] else \"\")\n",
    "        count=count+1\n",
    "plt.title(f\"sales vs holiday : {count}\")  \n",
    "plt.legend(title='Holiday Types', loc='upper right')\n",
    "plt.show()"
   ]
  },
  {
   "cell_type": "code",
   "execution_count": 74,
   "metadata": {
    "ExecuteTime": {
     "end_time": "2024-12-25T04:35:29.417073Z",
     "start_time": "2024-12-25T04:35:29.400258Z"
    },
    "execution": {
     "iopub.execute_input": "2024-12-30T14:23:16.747365Z",
     "iopub.status.busy": "2024-12-30T14:23:16.746977Z",
     "iopub.status.idle": "2024-12-30T14:23:16.752352Z",
     "shell.execute_reply": "2024-12-30T14:23:16.751034Z",
     "shell.execute_reply.started": "2024-12-30T14:23:16.747332Z"
    },
    "trusted": true
   },
   "outputs": [],
   "source": [
    "for i in range(10):\n",
    "    groupno=random.randint(1,100)\n",
    "    "
   ]
  },
  {
   "cell_type": "code",
   "execution_count": null,
   "metadata": {
    "ExecuteTime": {
     "end_time": "2024-12-25T04:35:47.970579Z",
     "start_time": "2024-12-25T04:35:29.542206Z"
    },
    "execution": {
     "iopub.execute_input": "2024-12-30T14:23:16.754287Z",
     "iopub.status.busy": "2024-12-30T14:23:16.753847Z",
     "iopub.status.idle": "2024-12-30T14:23:18.039676Z",
     "shell.execute_reply": "2024-12-30T14:23:18.038080Z",
     "shell.execute_reply.started": "2024-12-30T14:23:16.754251Z"
    },
    "trusted": true
   },
   "outputs": [],
   "source": [
    "for i in range(2):\n",
    "    groupno=random.randint(1,100)\n",
    "    month_range=['2017-01-01','2017-12-31']\n",
    "    filtered_data=filter_data_for_group(df=df_hol,groupno=groupno).set_index('date')\n",
    "    filtered_data=filter_data_month(filtered_data,month_range)\n",
    "    filtered_data.plot(y=['sales','onpromotion'],figsize=(15,13))\n",
    "    \n",
    "    \n",
    "    unique_colors = ['red', 'green', 'blue', 'orange', 'purple', 'pink', 'brown']  # Replace with your actual colors list\n",
    "    \n",
    "    # # Create a dictionary for color-to-label mapping\n",
    "    # color_to_label = {color: hol_day for color, hol_day in zip(unique_colors, holiday['category_reg'].unique())}\n",
    "    \n",
    "    # for color, hol_day in zip(unique_colors, holiday['category_reg'].unique()):\n",
    "    #     holiday_data = holiday[holiday['category_reg'] == hol_day]\n",
    "    #     holiday_data = filter_data_year(holiday_data,year_range)\n",
    "    #     for date in holiday_data.index:\n",
    "    #         # Plot each vertical line and assign a label to the color\n",
    "    #         plt.axvline(x=date, color=color, linestyle='--', label=color_to_label[color] if date == holiday_data.index[0] else \"\")\n",
    "    \n",
    "    # # Display the legend\n",
    "    # plt.legend(title='Holiday Types', loc='upper right')\n",
    "    filtered_holiday_data=filtered_data[filtered_data['holiday_true']==True]\n",
    "    color_to_label = {color: hol_day for color, hol_day in zip(unique_colors, filtered_holiday_data['category_reg'].unique())}\n",
    "    # print(color_to_label)\n",
    "    count=0\n",
    "    for color, hol_day in zip(unique_colors, filtered_holiday_data['category_reg'].unique()):\n",
    "        filtered_holiday = filtered_holiday_data[filtered_holiday_data['category_reg'] == hol_day]\n",
    "        # print(filtered_holiday)\n",
    "        # print(filtered_holiday.shape)\n",
    "        for date in filtered_holiday.index:\n",
    "            # print(date)\n",
    "            \n",
    "            plt.axvline(x=date, color=color, linestyle='--', label=color_to_label[color]  if date == filtered_holiday.index[0] else \"\")\n",
    "            count=count+1\n",
    "    plt.title(f\"sales vs holiday : {count} for the Group {groupno}\" )  \n",
    "    plt.legend(title='Holiday Types', loc='upper right')\n",
    "    plt.show()"
   ]
  },
  {
   "cell_type": "code",
   "execution_count": null,
   "metadata": {
    "ExecuteTime": {
     "end_time": "2024-12-25T04:35:50.228032Z",
     "start_time": "2024-12-25T04:35:48.032198Z"
    },
    "execution": {
     "iopub.execute_input": "2024-12-30T14:23:18.041816Z",
     "iopub.status.busy": "2024-12-30T14:23:18.041460Z",
     "iopub.status.idle": "2024-12-30T14:23:18.779376Z",
     "shell.execute_reply": "2024-12-30T14:23:18.777841Z",
     "shell.execute_reply.started": "2024-12-30T14:23:18.041782Z"
    },
    "trusted": true
   },
   "outputs": [],
   "source": [
    "year_range=[2016,2016]\n",
    "\n",
    "# Filter data to include only rows for years greater than 2015\n",
    "filtered_data = filter_data_for_group(df=df, groupno=56).set_index('date')\n",
    "\n",
    "# Resample the data by month (MS - Month Start) and sum the values for 'sales' and 'onpromotion'\n",
    "filtered_data.resample('MS')['sales', 'onpromotion'].sum()\n",
    "filtered_data = filter_data_year(filtered_data,year_range)  # Filter by year\n",
    "\n",
    "filtered_data.plot(y=['sales', 'onpromotion'], figsize=(15, 13))\n",
    "\n",
    "\n",
    "unique_colors = ['red', 'green', 'blue', 'orange', 'purple', 'pink', 'brown']  # Replace with your actual colors list\n",
    "\n",
    "# Create a dictionary for color-to-label mapping\n",
    "color_to_label = {color: hol_day for color, hol_day in zip(unique_colors, holiday['category_reg'].unique())}\n",
    "count=0\n",
    "for color, hol_day in zip(unique_colors, holiday['category_reg'].unique()):\n",
    "    holiday_data = holiday[holiday['category_reg'] == hol_day]\n",
    "    holiday_data = filter_data_year(holiday_data,year_range)\n",
    "    for date in holiday_data.index:\n",
    "        # Plot each vertical line and assign a label to the color\n",
    "        plt.axvline(x=date, color=color, linestyle='--', label=color_to_label[color] if date == holiday_data.index[0] else \"\")\n",
    "        count=count+1\n",
    "\n",
    "# Display the legend\n",
    "plt.legend(title='Holiday Types', loc='upper right')\n",
    "plt.title(f\"sales vs holiday : {count}\")\n",
    "plt.show()\n",
    "\n"
   ]
  },
  {
   "cell_type": "code",
   "execution_count": 77,
   "metadata": {
    "ExecuteTime": {
     "end_time": "2024-12-25T04:35:50.272071Z",
     "start_time": "2024-12-25T04:35:50.266962Z"
    },
    "execution": {
     "iopub.execute_input": "2024-12-30T14:23:18.780956Z",
     "iopub.status.busy": "2024-12-30T14:23:18.780581Z",
     "iopub.status.idle": "2024-12-30T14:23:18.786094Z",
     "shell.execute_reply": "2024-12-30T14:23:18.784547Z",
     "shell.execute_reply.started": "2024-12-30T14:23:18.780923Z"
    },
    "trusted": true
   },
   "outputs": [],
   "source": [
    "# fdata[fdata.index>'2015-01-05']"
   ]
  },
  {
   "cell_type": "code",
   "execution_count": 78,
   "metadata": {
    "ExecuteTime": {
     "end_time": "2024-12-25T04:35:50.426774Z",
     "start_time": "2024-12-25T04:35:50.421010Z"
    },
    "execution": {
     "iopub.execute_input": "2024-12-30T14:23:18.787534Z",
     "iopub.status.busy": "2024-12-30T14:23:18.787222Z",
     "iopub.status.idle": "2024-12-30T14:23:18.806897Z",
     "shell.execute_reply": "2024-12-30T14:23:18.805632Z",
     "shell.execute_reply.started": "2024-12-30T14:23:18.787507Z"
    },
    "trusted": true
   },
   "outputs": [],
   "source": [
    "# month_range=['2015-01-05','2015-03-05']\n",
    "# filter_data_month(fdata,month_range)"
   ]
  },
  {
   "cell_type": "code",
   "execution_count": null,
   "metadata": {
    "ExecuteTime": {
     "end_time": "2024-12-25T04:35:51.923725Z",
     "start_time": "2024-12-25T04:35:50.467844Z"
    },
    "execution": {
     "iopub.execute_input": "2024-12-30T14:23:18.808595Z",
     "iopub.status.busy": "2024-12-30T14:23:18.808160Z",
     "iopub.status.idle": "2024-12-30T14:23:19.333496Z",
     "shell.execute_reply": "2024-12-30T14:23:19.332085Z",
     "shell.execute_reply.started": "2024-12-30T14:23:18.808555Z"
    },
    "trusted": true
   },
   "outputs": [],
   "source": [
    "month_range=['2016-04-05','2016-07-05']\n",
    "fdata=filter_data_for_group(df=df,groupno=76).set_index('date')\n",
    "fdata=filter_data_month(fdata,month_range)\n",
    "fdata.plot(y=['sales','onpromotion'],figsize=(15,13))\n",
    "\n",
    "unique_colors = ['red', 'green', 'blue', 'orange', 'purple', 'pink', 'brown']  # Replace with your actual colors list\n",
    "\n",
    "# Create a dictionary for color-to-label mapping\n",
    "color_to_label = {color: hol_day for color, hol_day in zip(unique_colors, holiday['category_reg'].unique())}\n",
    "\n",
    "for color, hol_day in zip(unique_colors, holiday['category_reg'].unique()):\n",
    "    holiday_data = holiday[holiday['category_reg'] == hol_day]\n",
    "    holiday_data=filter_data_month(holiday_data,month_range)\n",
    "    for date in holiday_data.index:\n",
    "        # Plot each vertical line and assign a label to the color\n",
    "        plt.axvline(x=date, color=color, linestyle='--', label=color_to_label[color] if date == holiday_data.index[0] else \"\")\n",
    "\n",
    "# Display the legend\n",
    "plt.legend(title='Holiday Types', loc='upper right')\n",
    "\n",
    "plt.show()"
   ]
  },
  {
   "cell_type": "code",
   "execution_count": 80,
   "metadata": {
    "ExecuteTime": {
     "end_time": "2024-12-25T09:58:34.158609Z",
     "start_time": "2024-12-25T09:58:34.149646Z"
    },
    "execution": {
     "iopub.execute_input": "2024-12-30T14:23:19.334997Z",
     "iopub.status.busy": "2024-12-30T14:23:19.334527Z",
     "iopub.status.idle": "2024-12-30T14:23:19.341213Z",
     "shell.execute_reply": "2024-12-30T14:23:19.340058Z",
     "shell.execute_reply.started": "2024-12-30T14:23:19.334956Z"
    },
    "trusted": true
   },
   "outputs": [],
   "source": [
    "def Split_data(df,groupno):\n",
    "    filter_data=filter_data_for_group(df=df,groupno=groupno)\n",
    "    train_cuttoff=60\n",
    "    train_data=filter_data[:-train_cuttoff]\n",
    "    test_data=filter_data[-train_cuttoff:]\n",
    "    return train_data,test_data,filter_data"
   ]
  },
  {
   "cell_type": "code",
   "execution_count": 81,
   "metadata": {
    "ExecuteTime": {
     "end_time": "2024-12-25T06:37:00.940576Z",
     "start_time": "2024-12-25T06:37:00.929083Z"
    },
    "execution": {
     "iopub.execute_input": "2024-12-30T14:23:19.342602Z",
     "iopub.status.busy": "2024-12-30T14:23:19.342102Z",
     "iopub.status.idle": "2024-12-30T14:23:19.368120Z",
     "shell.execute_reply": "2024-12-30T14:23:19.366287Z",
     "shell.execute_reply.started": "2024-12-30T14:23:19.342556Z"
    },
    "trusted": true
   },
   "outputs": [],
   "source": [
    "def ComplexProphetPlot(model,forecast,train,test,df):\n",
    "    fig=plot(m=model, fcst=forecast, ax=None, uncertainty=True, plot_cap=True, xlabel='dates', ylabel='y_pred',\n",
    "    figsize=(10, 6), include_legend=True);\n",
    "    a=add_changepoints_to_plot(fig.gca(),m=model,fcst=forecast)\n",
    "    train.set_index('ds').plot(ax=fig.gca(),legend=True,ls='--',c='red')\n",
    "    test.set_index('ds').rename(columns={'y':'y_true'}).plot(ax=fig.gca(),legend=True,ls='dashdot',c='black')\n",
    "    #df.set_index('ds').rename(columns={'y':'y_full_data'}).plot(ax=fig.gca(),legend=True,ls='dotted',c='black',marker='*')"
   ]
  },
  {
   "cell_type": "code",
   "execution_count": 82,
   "metadata": {
    "ExecuteTime": {
     "end_time": "2024-12-25T09:11:49.302945Z",
     "start_time": "2024-12-25T09:11:49.276688Z"
    },
    "execution": {
     "iopub.execute_input": "2024-12-30T14:23:19.370088Z",
     "iopub.status.busy": "2024-12-30T14:23:19.369633Z",
     "iopub.status.idle": "2024-12-30T14:23:19.398694Z",
     "shell.execute_reply": "2024-12-30T14:23:19.397061Z",
     "shell.execute_reply.started": "2024-12-30T14:23:19.370030Z"
    },
    "trusted": true
   },
   "outputs": [],
   "source": [
    "def ProphetModel(df,groupno):\n",
    "    train_data,test_data,all_data=Split_data(df,groupno)\n",
    "    train_data=train_data[['date','sales','onpromotion','holiday_true']]\n",
    "    test_data=test_data[['date','sales','onpromotion','holiday_true']]\n",
    "    train_data.rename(columns={'date':'ds','sales':'y'},inplace=True)\n",
    "    test_data.rename(columns={'date':'ds','sales':'y'},inplace=True)\n",
    "    \n",
    "    scaler_sales = MinMaxScaler()\n",
    "    scaler_onpromotion = MinMaxScaler()\n",
    "    \n",
    "    train_data['y'] = scaler_sales.fit_transform(train_data[['y']])\n",
    "    test_data['y'] = scaler_sales.transform(test_data[['y']])\n",
    "    \n",
    "    train_data['onpromotion'] = scaler_onpromotion.fit_transform(train_data[['onpromotion']])\n",
    "    test_data['onpromotion'] = scaler_onpromotion.transform(test_data[['onpromotion']])\n",
    "\n",
    "    \n",
    "    test_data.to_csv('test_data.csv',index=False)\n",
    "    model=Prophet(daily_seasonality=True)\n",
    "    model.add_regressor('holiday_true')\n",
    "    model.add_regressor('onpromotion')\n",
    "    model.fit(train_data)\n",
    "    future_dfs=model.make_future_dataframe(periods=60)\n",
    "    future_dfs.to_csv('future_data.csv',index=False)\n",
    "    future_dfs = future_dfs.merge(\n",
    "    test_data[['ds', 'holiday_true', 'onpromotion']],\n",
    "    on='ds',\n",
    "    how='left'\n",
    "    )\n",
    "    future_dfs.fillna({'holiday_true': 0, 'onpromotion': 0}, inplace=True)\n",
    "\n",
    "    future_dfs=future_dfs.tail(60).head(60)\n",
    "    future_dfs.to_csv('future_dfs.csv',index=False)\n",
    "    preds=model.predict(future_dfs)\n",
    "    # preds.merge(train_data,on='ds',how='left').set_index('ds')[['y','yhat']].plot(figsize=(15,13))\n",
    "    #ComplexProphetPlot(model,preds,train_data,test_data,df)\n",
    "    preds['yhat'] = scaler_sales.inverse_transform(preds[['yhat']])\n",
    "    preds['yhat_lower'] = scaler_sales.inverse_transform(preds[['yhat_lower']])\n",
    "    preds['yhat_upper'] = scaler_sales.inverse_transform(preds[['yhat_upper']])\n",
    "    \n",
    "    # Inverse transform test data to original scale for evaluation\n",
    "    test_data['y'] = scaler_sales.inverse_transform(test_data[['y']])\n",
    "    \n",
    "    return preds,train_data,test_data"
   ]
  },
  {
   "cell_type": "code",
   "execution_count": 83,
   "metadata": {
    "ExecuteTime": {
     "end_time": "2024-12-25T09:11:52.025400Z",
     "start_time": "2024-12-25T09:11:52.019686Z"
    },
    "execution": {
     "iopub.execute_input": "2024-12-30T14:23:19.400942Z",
     "iopub.status.busy": "2024-12-30T14:23:19.400504Z",
     "iopub.status.idle": "2024-12-30T14:23:19.428540Z",
     "shell.execute_reply": "2024-12-30T14:23:19.426906Z",
     "shell.execute_reply.started": "2024-12-30T14:23:19.400899Z"
    },
    "trusted": true
   },
   "outputs": [],
   "source": [
    "# ProphetModel(df_hol,groupno=88)"
   ]
  },
  {
   "cell_type": "code",
   "execution_count": null,
   "metadata": {
    "ExecuteTime": {
     "end_time": "2024-12-25T09:11:54.571715Z",
     "start_time": "2024-12-25T09:11:53.358323Z"
    },
    "execution": {
     "iopub.execute_input": "2024-12-30T14:23:19.430764Z",
     "iopub.status.busy": "2024-12-30T14:23:19.430078Z",
     "iopub.status.idle": "2024-12-30T14:23:19.547165Z",
     "shell.execute_reply": "2024-12-30T14:23:19.545504Z",
     "shell.execute_reply.started": "2024-12-30T14:23:19.430716Z"
    },
    "trusted": true
   },
   "outputs": [],
   "source": [
    "req_columns=['default_rank','comb','date','sales','onpromotion','holiday_true']\n",
    "df_Prophet=df_hol[req_columns]\n",
    "# df_Prophet=df_Prophet.set_index('date')\n",
    "df_Prophet.loc[:,'holiday_true']=df_Prophet['holiday_true'].astype('int64')\n",
    "df_Prophet"
   ]
  },
  {
   "cell_type": "code",
   "execution_count": 85,
   "metadata": {
    "ExecuteTime": {
     "end_time": "2024-12-25T10:10:59.190623Z",
     "start_time": "2024-12-25T10:10:59.181890Z"
    },
    "execution": {
     "iopub.execute_input": "2024-12-30T14:23:19.548994Z",
     "iopub.status.busy": "2024-12-30T14:23:19.548483Z",
     "iopub.status.idle": "2024-12-30T14:23:19.556748Z",
     "shell.execute_reply": "2024-12-30T14:23:19.555683Z",
     "shell.execute_reply.started": "2024-12-30T14:23:19.548946Z"
    },
    "trusted": true
   },
   "outputs": [],
   "source": [
    "def fillMissingDates(df_df,unique_cols,frequency,freq,grain_with_time,sales_column,date_index=False):\n",
    "    date_ranges = df_df.groupby(unique_cols).apply(\n",
    "            lambda group: pd.date_range(group[frequency].min(), group[frequency].max(), freq=freq)\n",
    "        ).reset_index(name=frequency)\n",
    "\n",
    "\n",
    "    # Step 4: Create a new DataFrame that combines item-location combinations with the generated date ranges\n",
    "    date_ranges = date_ranges.explode(frequency).reset_index(drop=True)\n",
    "\n",
    "\n",
    "    # Step 5: Merge the generated date ranges with the original data to get sales_quantity for each date\n",
    "    df_filled = pd.merge(date_ranges, df_df[grain_with_time+sales_column],\n",
    "                         on=unique_cols+[frequency], how='left')\n",
    "\n",
    "    # Step 6: Fill missing sales_quantity values with 0\n",
    "    df_filled[sales_column] = df_filled[sales_column].fillna(0)\n",
    "    if date_index:\n",
    "        return df_filled\n",
    "    # Step 7: Optionally, reset index if you want\n",
    "    else:\n",
    "        df_filled.reset_index(drop=True, inplace=True)\n",
    "        return df_filled"
   ]
  },
  {
   "cell_type": "code",
   "execution_count": 86,
   "metadata": {
    "ExecuteTime": {
     "end_time": "2024-12-25T09:12:25.327479Z",
     "start_time": "2024-12-25T09:11:55.626049Z"
    },
    "execution": {
     "iopub.execute_input": "2024-12-30T14:23:19.558220Z",
     "iopub.status.busy": "2024-12-30T14:23:19.557710Z",
     "iopub.status.idle": "2024-12-30T14:23:44.381369Z",
     "shell.execute_reply": "2024-12-30T14:23:44.380254Z",
     "shell.execute_reply.started": "2024-12-30T14:23:19.558145Z"
    },
    "trusted": true
   },
   "outputs": [],
   "source": [
    "df_Prophet=fillMissingDates(df_Prophet,unique_cols=['default_rank'],frequency='date',freq='D',grain_with_time=['default_rank','date'],sales_column=['sales','onpromotion','holiday_true'])"
   ]
  },
  {
   "cell_type": "code",
   "execution_count": null,
   "metadata": {
    "ExecuteTime": {
     "end_time": "2024-12-25T09:12:25.388681Z",
     "start_time": "2024-12-25T09:12:25.363979Z"
    },
    "execution": {
     "iopub.execute_input": "2024-12-30T14:23:44.382935Z",
     "iopub.status.busy": "2024-12-30T14:23:44.382524Z",
     "iopub.status.idle": "2024-12-30T14:23:44.399523Z",
     "shell.execute_reply": "2024-12-30T14:23:44.398324Z",
     "shell.execute_reply.started": "2024-12-30T14:23:44.382892Z"
    },
    "trusted": true
   },
   "outputs": [],
   "source": [
    "df_Prophet"
   ]
  },
  {
   "cell_type": "code",
   "execution_count": 88,
   "metadata": {
    "ExecuteTime": {
     "end_time": "2024-12-25T09:12:25.518116Z",
     "start_time": "2024-12-25T09:12:25.510167Z"
    },
    "execution": {
     "iopub.execute_input": "2024-12-30T14:23:44.400994Z",
     "iopub.status.busy": "2024-12-30T14:23:44.400659Z",
     "iopub.status.idle": "2024-12-30T14:23:44.422042Z",
     "shell.execute_reply": "2024-12-30T14:23:44.421002Z",
     "shell.execute_reply.started": "2024-12-30T14:23:44.400962Z"
    },
    "trusted": true
   },
   "outputs": [],
   "source": [
    "# scaler=MinMaxScaler()\n",
    "# df_Prophet.loc[:,'sales']=scaler.fit_transform(df_Prophet[['sales']])\n",
    "# df_Prophet.loc[:,'onpromotion']=scaler.fit_transform(df_Prophet[['onpromotion']])"
   ]
  },
  {
   "cell_type": "code",
   "execution_count": 89,
   "metadata": {
    "ExecuteTime": {
     "end_time": "2024-12-25T09:12:25.678972Z",
     "start_time": "2024-12-25T09:12:25.641038Z"
    },
    "execution": {
     "iopub.execute_input": "2024-12-30T14:23:44.423464Z",
     "iopub.status.busy": "2024-12-30T14:23:44.423099Z",
     "iopub.status.idle": "2024-12-30T14:23:44.480148Z",
     "shell.execute_reply": "2024-12-30T14:23:44.478916Z",
     "shell.execute_reply.started": "2024-12-30T14:23:44.423434Z"
    },
    "trusted": true
   },
   "outputs": [],
   "source": [
    "df_Prophet=df_Prophet.fillna(0)"
   ]
  },
  {
   "cell_type": "code",
   "execution_count": null,
   "metadata": {
    "ExecuteTime": {
     "end_time": "2024-12-25T09:12:27.287638Z",
     "start_time": "2024-12-25T09:12:26.519834Z"
    },
    "execution": {
     "iopub.execute_input": "2024-12-30T14:23:44.481628Z",
     "iopub.status.busy": "2024-12-30T14:23:44.481302Z",
     "iopub.status.idle": "2024-12-30T14:23:44.996637Z",
     "shell.execute_reply": "2024-12-30T14:23:44.995674Z",
     "shell.execute_reply.started": "2024-12-30T14:23:44.481597Z"
    },
    "trusted": true
   },
   "outputs": [],
   "source": [
    "pred_data,train_data,test_data=ProphetModel(df_Prophet,groupno=88)"
   ]
  },
  {
   "cell_type": "code",
   "execution_count": null,
   "metadata": {
    "ExecuteTime": {
     "end_time": "2024-12-25T09:12:27.607383Z",
     "start_time": "2024-12-25T09:12:27.557938Z"
    },
    "execution": {
     "iopub.execute_input": "2024-12-30T14:23:44.997854Z",
     "iopub.status.busy": "2024-12-30T14:23:44.997573Z",
     "iopub.status.idle": "2024-12-30T14:23:45.025127Z",
     "shell.execute_reply": "2024-12-30T14:23:45.024120Z",
     "shell.execute_reply.started": "2024-12-30T14:23:44.997830Z"
    },
    "trusted": true
   },
   "outputs": [],
   "source": [
    "pred_data.tail(60).head()"
   ]
  },
  {
   "cell_type": "code",
   "execution_count": null,
   "metadata": {
    "ExecuteTime": {
     "end_time": "2024-12-25T09:12:27.963090Z",
     "start_time": "2024-12-25T09:12:27.933820Z"
    },
    "execution": {
     "iopub.execute_input": "2024-12-30T14:23:45.026780Z",
     "iopub.status.busy": "2024-12-30T14:23:45.026369Z",
     "iopub.status.idle": "2024-12-30T14:23:45.038893Z",
     "shell.execute_reply": "2024-12-30T14:23:45.037886Z",
     "shell.execute_reply.started": "2024-12-30T14:23:45.026742Z"
    },
    "trusted": true
   },
   "outputs": [],
   "source": [
    "test_data.head()"
   ]
  },
  {
   "cell_type": "code",
   "execution_count": 93,
   "metadata": {
    "ExecuteTime": {
     "end_time": "2024-12-25T09:12:28.914235Z",
     "start_time": "2024-12-25T09:12:28.880898Z"
    },
    "execution": {
     "iopub.execute_input": "2024-12-30T14:23:45.040299Z",
     "iopub.status.busy": "2024-12-30T14:23:45.039924Z",
     "iopub.status.idle": "2024-12-30T14:23:45.060767Z",
     "shell.execute_reply": "2024-12-30T14:23:45.059879Z",
     "shell.execute_reply.started": "2024-12-30T14:23:45.040258Z"
    },
    "trusted": true
   },
   "outputs": [],
   "source": [
    "pred_data_prophet=test_data[['ds','y']].merge(pred_data[['ds','yhat','yhat_lower','yhat_upper']],on='ds',how='left')"
   ]
  },
  {
   "cell_type": "code",
   "execution_count": null,
   "metadata": {
    "ExecuteTime": {
     "end_time": "2024-12-25T09:13:33.970842Z",
     "start_time": "2024-12-25T09:13:33.952330Z"
    },
    "execution": {
     "iopub.execute_input": "2024-12-30T14:23:45.062360Z",
     "iopub.status.busy": "2024-12-30T14:23:45.061919Z",
     "iopub.status.idle": "2024-12-30T14:23:45.087885Z",
     "shell.execute_reply": "2024-12-30T14:23:45.086993Z",
     "shell.execute_reply.started": "2024-12-30T14:23:45.062301Z"
    },
    "trusted": true
   },
   "outputs": [],
   "source": [
    "pred_data_prophet.head()"
   ]
  },
  {
   "cell_type": "code",
   "execution_count": null,
   "metadata": {
    "ExecuteTime": {
     "end_time": "2024-12-25T09:12:29.962174Z",
     "start_time": "2024-12-25T09:12:29.947491Z"
    },
    "execution": {
     "iopub.execute_input": "2024-12-30T14:23:45.089194Z",
     "iopub.status.busy": "2024-12-30T14:23:45.088863Z",
     "iopub.status.idle": "2024-12-30T14:23:45.107363Z",
     "shell.execute_reply": "2024-12-30T14:23:45.106386Z",
     "shell.execute_reply.started": "2024-12-30T14:23:45.089150Z"
    },
    "trusted": true
   },
   "outputs": [],
   "source": [
    "np.sqrt(mean_squared_error(pred_data_prophet['y'],pred_data_prophet['yhat']))"
   ]
  },
  {
   "cell_type": "code",
   "execution_count": null,
   "metadata": {
    "ExecuteTime": {
     "end_time": "2024-12-25T09:12:30.450174Z",
     "start_time": "2024-12-25T09:12:30.432628Z"
    },
    "execution": {
     "iopub.execute_input": "2024-12-30T14:23:45.108845Z",
     "iopub.status.busy": "2024-12-30T14:23:45.108436Z",
     "iopub.status.idle": "2024-12-30T14:23:45.133241Z",
     "shell.execute_reply": "2024-12-30T14:23:45.132248Z",
     "shell.execute_reply.started": "2024-12-30T14:23:45.108815Z"
    },
    "trusted": true
   },
   "outputs": [],
   "source": [
    "np.sqrt(mean_squared_error(pred_data_prophet['y'],pred_data_prophet['yhat_lower']))"
   ]
  },
  {
   "cell_type": "code",
   "execution_count": null,
   "metadata": {
    "ExecuteTime": {
     "end_time": "2024-12-25T09:12:31.501328Z",
     "start_time": "2024-12-25T09:12:31.490685Z"
    },
    "execution": {
     "iopub.execute_input": "2024-12-30T14:23:45.134990Z",
     "iopub.status.busy": "2024-12-30T14:23:45.134578Z",
     "iopub.status.idle": "2024-12-30T14:23:45.155008Z",
     "shell.execute_reply": "2024-12-30T14:23:45.153772Z",
     "shell.execute_reply.started": "2024-12-30T14:23:45.134942Z"
    },
    "trusted": true
   },
   "outputs": [],
   "source": [
    "np.sqrt(mean_squared_error(pred_data_prophet['y'],pred_data_prophet['yhat_upper']))"
   ]
  },
  {
   "cell_type": "code",
   "execution_count": 98,
   "metadata": {
    "ExecuteTime": {
     "end_time": "2024-12-25T09:12:32.932871Z",
     "start_time": "2024-12-25T09:12:32.909482Z"
    },
    "execution": {
     "iopub.execute_input": "2024-12-30T14:23:45.156613Z",
     "iopub.status.busy": "2024-12-30T14:23:45.156205Z",
     "iopub.status.idle": "2024-12-30T14:23:45.172548Z",
     "shell.execute_reply": "2024-12-30T14:23:45.171499Z",
     "shell.execute_reply.started": "2024-12-30T14:23:45.156571Z"
    },
    "trusted": true
   },
   "outputs": [],
   "source": [
    "import numpy as np\n",
    "\n",
    "def rmsle(y_true, y_pred):\n",
    "    \"\"\"\n",
    "    Calculate Root Mean Squared Logarithmic Error (RMSLE).\n",
    "\n",
    "    Parameters:\n",
    "    - y_true (array-like): Actual values (ground truth).\n",
    "    - y_pred (array-like): Predicted values.\n",
    "\n",
    "    Returns:\n",
    "    - float: RMSLE value.\n",
    "    \"\"\"\n",
    "    # Ensure no negative predictions\n",
    "    y_pred = np.maximum(y_pred, 0)\n",
    "    \n",
    "    # Apply the formula\n",
    "    log_true = np.log1p(y_true)\n",
    "    log_pred = np.log1p(y_pred)\n",
    "    squared_log_error = np.square(log_true - log_pred)\n",
    "    rmsle_value = np.sqrt(np.mean(squared_log_error))\n",
    "    \n",
    "    return rmsle_value\n"
   ]
  },
  {
   "cell_type": "code",
   "execution_count": null,
   "metadata": {
    "ExecuteTime": {
     "end_time": "2024-12-25T09:12:34.174129Z",
     "start_time": "2024-12-25T09:12:34.160951Z"
    },
    "execution": {
     "iopub.execute_input": "2024-12-30T14:23:45.173715Z",
     "iopub.status.busy": "2024-12-30T14:23:45.173439Z",
     "iopub.status.idle": "2024-12-30T14:23:45.197140Z",
     "shell.execute_reply": "2024-12-30T14:23:45.196044Z",
     "shell.execute_reply.started": "2024-12-30T14:23:45.173693Z"
    },
    "trusted": true
   },
   "outputs": [],
   "source": [
    "rmsle(pred_data_prophet['y'],pred_data_prophet['yhat_upper']),rmsle(pred_data_prophet['y'],pred_data_prophet['yhat'])"
   ]
  },
  {
   "cell_type": "code",
   "execution_count": null,
   "metadata": {
    "ExecuteTime": {
     "end_time": "2024-12-25T09:12:37.940776Z",
     "start_time": "2024-12-25T09:12:37.805183Z"
    },
    "execution": {
     "iopub.execute_input": "2024-12-30T14:23:45.198905Z",
     "iopub.status.busy": "2024-12-30T14:23:45.198505Z",
     "iopub.status.idle": "2024-12-30T14:23:46.490236Z",
     "shell.execute_reply": "2024-12-30T14:23:46.489153Z",
     "shell.execute_reply.started": "2024-12-30T14:23:45.198864Z"
    },
    "trusted": true
   },
   "outputs": [],
   "source": [
    "px.line(pred_data_prophet,x='ds',y=pred_data_prophet.columns)"
   ]
  },
  {
   "cell_type": "code",
   "execution_count": 101,
   "metadata": {
    "ExecuteTime": {
     "end_time": "2024-12-25T04:35:58.959281Z",
     "start_time": "2024-12-25T04:35:58.940798Z"
    },
    "execution": {
     "iopub.execute_input": "2024-12-30T14:23:46.492077Z",
     "iopub.status.busy": "2024-12-30T14:23:46.491634Z",
     "iopub.status.idle": "2024-12-30T14:23:46.497235Z",
     "shell.execute_reply": "2024-12-30T14:23:46.496255Z",
     "shell.execute_reply.started": "2024-12-30T14:23:46.492033Z"
    },
    "trusted": true
   },
   "outputs": [],
   "source": [
    "def season_plots(data):\n",
    "    seasonal_data=seasonal_decompose(x=data,\n",
    "    model=\"additive\",\n",
    "    filt=None,\n",
    "    period=None,\n",
    "    two_sided=True,\n",
    "    extrapolate_trend=0,\n",
    ")\n",
    "    seasonal_data.plot()\n",
    "    return seasonal_data.trend,seasonal_data.seasonal,seasonal_data.resid"
   ]
  },
  {
   "cell_type": "code",
   "execution_count": null,
   "metadata": {
    "trusted": true
   },
   "outputs": [],
   "source": []
  },
  {
   "cell_type": "code",
   "execution_count": 102,
   "metadata": {
    "ExecuteTime": {
     "end_time": "2024-12-25T04:35:59.122362Z",
     "start_time": "2024-12-25T04:35:59.078259Z"
    },
    "execution": {
     "iopub.execute_input": "2024-12-30T14:23:46.498460Z",
     "iopub.status.busy": "2024-12-30T14:23:46.498119Z",
     "iopub.status.idle": "2024-12-30T14:23:46.533682Z",
     "shell.execute_reply": "2024-12-30T14:23:46.532588Z",
     "shell.execute_reply.started": "2024-12-30T14:23:46.498417Z"
    },
    "trusted": true
   },
   "outputs": [],
   "source": [
    "groupno=10\n",
    "data=filter_data_for_group(df=df_hol,groupno=groupno).set_index('date')[['sales']]"
   ]
  },
  {
   "cell_type": "code",
   "execution_count": 103,
   "metadata": {
    "ExecuteTime": {
     "end_time": "2024-12-25T04:35:59.146713Z",
     "start_time": "2024-12-25T04:35:59.133241Z"
    },
    "execution": {
     "iopub.execute_input": "2024-12-30T14:23:46.535353Z",
     "iopub.status.busy": "2024-12-30T14:23:46.534946Z",
     "iopub.status.idle": "2024-12-30T14:23:46.542877Z",
     "shell.execute_reply": "2024-12-30T14:23:46.541693Z",
     "shell.execute_reply.started": "2024-12-30T14:23:46.535322Z"
    },
    "trusted": true
   },
   "outputs": [],
   "source": [
    "data=data.resample('D').sum()\n"
   ]
  },
  {
   "cell_type": "code",
   "execution_count": null,
   "metadata": {
    "ExecuteTime": {
     "end_time": "2024-12-25T04:35:59.213980Z",
     "start_time": "2024-12-25T04:35:59.208928Z"
    },
    "trusted": true
   },
   "outputs": [],
   "source": []
  },
  {
   "cell_type": "code",
   "execution_count": null,
   "metadata": {
    "ExecuteTime": {
     "end_time": "2024-12-25T04:36:19.518247Z",
     "start_time": "2024-12-25T04:35:59.269305Z"
    },
    "execution": {
     "iopub.execute_input": "2024-12-30T14:23:46.544686Z",
     "iopub.status.busy": "2024-12-30T14:23:46.544319Z",
     "iopub.status.idle": "2024-12-30T14:23:52.684909Z",
     "shell.execute_reply": "2024-12-30T14:23:52.683469Z",
     "shell.execute_reply.started": "2024-12-30T14:23:46.544642Z"
    },
    "trusted": true
   },
   "outputs": [],
   "source": [
    "trend_14,season_14,resid_14=season_plots(data[data.index.year==2014]);\n",
    "trend_15,season_15,resid_15=season_plots(data[data.index.year==2015]);\n",
    "trend_16,season_16,resid_16=season_plots(data[data.index.year==2016]);\n",
    "trend_17,season_17,resid_17=season_plots(data[data.index.year==2017]);"
   ]
  },
  {
   "cell_type": "code",
   "execution_count": null,
   "metadata": {
    "ExecuteTime": {
     "end_time": "2024-12-25T04:36:19.584531Z",
     "start_time": "2024-12-25T04:36:19.574530Z"
    },
    "execution": {
     "iopub.execute_input": "2024-12-30T14:23:52.686686Z",
     "iopub.status.busy": "2024-12-30T14:23:52.686222Z",
     "iopub.status.idle": "2024-12-30T14:23:52.693534Z",
     "shell.execute_reply": "2024-12-30T14:23:52.692336Z",
     "shell.execute_reply.started": "2024-12-30T14:23:52.686635Z"
    },
    "trusted": true
   },
   "outputs": [],
   "source": [
    "type(trend_14)"
   ]
  },
  {
   "cell_type": "code",
   "execution_count": 106,
   "metadata": {
    "ExecuteTime": {
     "end_time": "2024-12-25T04:36:19.830046Z",
     "start_time": "2024-12-25T04:36:19.812704Z"
    },
    "execution": {
     "iopub.execute_input": "2024-12-30T14:23:52.695437Z",
     "iopub.status.busy": "2024-12-30T14:23:52.694894Z",
     "iopub.status.idle": "2024-12-30T14:23:52.719944Z",
     "shell.execute_reply": "2024-12-30T14:23:52.718851Z",
     "shell.execute_reply.started": "2024-12-30T14:23:52.695389Z"
    },
    "trusted": true
   },
   "outputs": [],
   "source": [
    "trend_data_14=trend_14.reset_index().rename(columns={'trend':'trend_14'})\n",
    "trend_data_15=trend_15.reset_index().rename(columns={'trend':'trend_15'})\n",
    "trend_data_16=trend_16.reset_index().rename(columns={'trend':'trend_16'})\n",
    "trend_data_17=trend_17.reset_index().rename(columns={'trend':'trend_17'})"
   ]
  },
  {
   "cell_type": "code",
   "execution_count": 107,
   "metadata": {
    "ExecuteTime": {
     "end_time": "2024-12-25T04:36:19.902536Z",
     "start_time": "2024-12-25T04:36:19.879266Z"
    },
    "execution": {
     "iopub.execute_input": "2024-12-30T14:23:52.721728Z",
     "iopub.status.busy": "2024-12-30T14:23:52.721337Z",
     "iopub.status.idle": "2024-12-30T14:23:52.760964Z",
     "shell.execute_reply": "2024-12-30T14:23:52.759646Z",
     "shell.execute_reply.started": "2024-12-30T14:23:52.721693Z"
    },
    "trusted": true
   },
   "outputs": [],
   "source": [
    "trend_data_15['date'] = trend_data_15['date'] - pd.DateOffset(years=1)\n",
    "trend_data_16['date'] = trend_data_16['date'] - pd.DateOffset(years=2)\n",
    "trend_data_17['date'] = trend_data_17['date'] - pd.DateOffset(years=3)"
   ]
  },
  {
   "cell_type": "code",
   "execution_count": 108,
   "metadata": {
    "ExecuteTime": {
     "end_time": "2024-12-25T04:36:19.988503Z",
     "start_time": "2024-12-25T04:36:19.942219Z"
    },
    "execution": {
     "iopub.execute_input": "2024-12-30T14:23:52.762729Z",
     "iopub.status.busy": "2024-12-30T14:23:52.762305Z",
     "iopub.status.idle": "2024-12-30T14:23:52.804325Z",
     "shell.execute_reply": "2024-12-30T14:23:52.802497Z",
     "shell.execute_reply.started": "2024-12-30T14:23:52.762689Z"
    },
    "trusted": true
   },
   "outputs": [],
   "source": [
    "trend_data=trend_data_15.merge(trend_data_14,on='date',how='left').merge(trend_data_16,on='date',how='left').merge(trend_data_17,on='date',how='left')"
   ]
  },
  {
   "cell_type": "code",
   "execution_count": null,
   "metadata": {
    "ExecuteTime": {
     "end_time": "2024-12-25T04:36:21.175618Z",
     "start_time": "2024-12-25T04:36:20.009906Z"
    },
    "execution": {
     "iopub.execute_input": "2024-12-30T14:23:52.806929Z",
     "iopub.status.busy": "2024-12-30T14:23:52.806580Z",
     "iopub.status.idle": "2024-12-30T14:23:52.946101Z",
     "shell.execute_reply": "2024-12-30T14:23:52.944998Z",
     "shell.execute_reply.started": "2024-12-30T14:23:52.806900Z"
    },
    "trusted": true
   },
   "outputs": [],
   "source": [
    "px.line(trend_data,x='date',y=['trend_14','trend_15','trend_16','trend_17'])"
   ]
  },
  {
   "cell_type": "code",
   "execution_count": null,
   "metadata": {
    "ExecuteTime": {
     "end_time": "2024-12-25T04:36:23.607477Z",
     "start_time": "2024-12-25T04:36:21.836918Z"
    },
    "execution": {
     "iopub.execute_input": "2024-12-30T14:23:52.947970Z",
     "iopub.status.busy": "2024-12-30T14:23:52.947523Z",
     "iopub.status.idle": "2024-12-30T14:23:53.345130Z",
     "shell.execute_reply": "2024-12-30T14:23:53.343845Z",
     "shell.execute_reply.started": "2024-12-30T14:23:52.947926Z"
    },
    "trusted": true
   },
   "outputs": [],
   "source": [
    "plt.figure(figsize=(10, 6))\n",
    "plt.plot(trend_14, label='2014 Trend', color='blue', linestyle='-', linewidth=2)\n",
    "plt.plot(trend_15, label='2015 Trend', color='orange', linestyle='--', linewidth=2)\n",
    "plt.legend()\n",
    "plt.show()"
   ]
  },
  {
   "cell_type": "code",
   "execution_count": null,
   "metadata": {
    "ExecuteTime": {
     "end_time": "2024-12-25T04:36:25.257725Z",
     "start_time": "2024-12-25T04:36:23.696316Z"
    },
    "execution": {
     "iopub.execute_input": "2024-12-30T14:23:53.346695Z",
     "iopub.status.busy": "2024-12-30T14:23:53.346321Z",
     "iopub.status.idle": "2024-12-30T14:23:53.611090Z",
     "shell.execute_reply": "2024-12-30T14:23:53.609783Z",
     "shell.execute_reply.started": "2024-12-30T14:23:53.346659Z"
    },
    "trusted": true
   },
   "outputs": [],
   "source": [
    "deviation = trend_data['trend_15'] - trend_data['trend_14']\n",
    "deviation.plot(kind='line', title='Deviation between 2014 and 2015 Trends')\n",
    "plt.show()"
   ]
  },
  {
   "cell_type": "code",
   "execution_count": 112,
   "metadata": {
    "ExecuteTime": {
     "end_time": "2024-12-25T04:36:27.287359Z",
     "start_time": "2024-12-25T04:36:25.356893Z"
    },
    "execution": {
     "iopub.execute_input": "2024-12-30T14:23:53.613547Z",
     "iopub.status.busy": "2024-12-30T14:23:53.612925Z",
     "iopub.status.idle": "2024-12-30T14:23:54.630043Z",
     "shell.execute_reply": "2024-12-30T14:23:54.629030Z",
     "shell.execute_reply.started": "2024-12-30T14:23:53.613483Z"
    },
    "trusted": true
   },
   "outputs": [],
   "source": [
    "from pmdarima.arima import auto_arima\n",
    "from statsmodels.tsa.arima.model import ARIMA, ARIMAResults"
   ]
  },
  {
   "cell_type": "code",
   "execution_count": 113,
   "metadata": {
    "ExecuteTime": {
     "end_time": "2024-12-25T04:36:27.329477Z",
     "start_time": "2024-12-25T04:36:27.310237Z"
    },
    "execution": {
     "iopub.execute_input": "2024-12-30T14:23:54.632091Z",
     "iopub.status.busy": "2024-12-30T14:23:54.631216Z",
     "iopub.status.idle": "2024-12-30T14:23:54.639339Z",
     "shell.execute_reply": "2024-12-30T14:23:54.638069Z",
     "shell.execute_reply.started": "2024-12-30T14:23:54.632048Z"
    },
    "trusted": true
   },
   "outputs": [],
   "source": [
    "def MyAutoArima(data,x=None):\n",
    "    arima_model=auto_arima(y=data,\n",
    "    X=x,\n",
    "    start_p=2,\n",
    "    d=None,\n",
    "    start_q=2,\n",
    "    max_p=10,\n",
    "    max_d=10,\n",
    "    max_q=10,\n",
    "    start_P=1,\n",
    "    D=None,\n",
    "    start_Q=1,\n",
    "    max_P=10,\n",
    "    max_D=10,\n",
    "    max_Q=10,\n",
    "    max_order=5,\n",
    "    m=1,\n",
    "    seasonal=True,\n",
    "    stationary=False,\n",
    "    information_criterion='aic',\n",
    "    alpha=0.05,\n",
    "    test='kpss',\n",
    "    seasonal_test='ocsb',\n",
    "    stepwise=False,\n",
    "    n_jobs=-1,\n",
    "    start_params=None,\n",
    "    trend=None,\n",
    "    method='lbfgs',\n",
    "    maxiter=500,\n",
    "    offset_test_args=None,\n",
    "    seasonal_test_args=None,\n",
    "    suppress_warnings=True,\n",
    "    error_action='trace',\n",
    "    trace=False,\n",
    "    random=False,\n",
    "    random_state=None,\n",
    "    n_fits=100,\n",
    "    return_valid_fits=False,\n",
    "    out_of_sample_size=0,\n",
    "    scoring='mse',\n",
    "    scoring_args=None,\n",
    "    with_intercept=\"auto\")\n",
    "    return arima_model"
   ]
  },
  {
   "cell_type": "code",
   "execution_count": null,
   "metadata": {
    "ExecuteTime": {
     "end_time": "2024-12-25T05:33:30.155737Z",
     "start_time": "2024-12-25T05:33:30.116363Z"
    },
    "trusted": true
   },
   "outputs": [],
   "source": []
  },
  {
   "cell_type": "code",
   "execution_count": null,
   "metadata": {
    "ExecuteTime": {
     "end_time": "2024-12-25T10:37:23.613822Z",
     "start_time": "2024-12-25T10:37:20.020725Z"
    },
    "execution": {
     "iopub.execute_input": "2024-12-30T14:23:54.640665Z",
     "iopub.status.busy": "2024-12-30T14:23:54.640354Z",
     "iopub.status.idle": "2024-12-30T14:23:54.749391Z",
     "shell.execute_reply": "2024-12-30T14:23:54.748361Z",
     "shell.execute_reply.started": "2024-12-30T14:23:54.640638Z"
    },
    "trusted": true
   },
   "outputs": [],
   "source": [
    "req_columns=['default_rank','comb','date','sales','onpromotion','holiday_true']\n",
    "df_arima_main=df_hol[req_columns]\n",
    "# df_Prophet=df_Prophet.set_index('date')\n",
    "df_arima_main.loc[:,'holiday_true']=df_arima_main['holiday_true'].astype('int64')\n",
    "df_arima_main"
   ]
  },
  {
   "cell_type": "code",
   "execution_count": 115,
   "metadata": {
    "ExecuteTime": {
     "end_time": "2024-12-25T10:38:01.619631Z",
     "start_time": "2024-12-25T10:37:26.664689Z"
    },
    "execution": {
     "iopub.execute_input": "2024-12-30T14:23:54.750981Z",
     "iopub.status.busy": "2024-12-30T14:23:54.750673Z",
     "iopub.status.idle": "2024-12-30T14:24:16.873119Z",
     "shell.execute_reply": "2024-12-30T14:24:16.872023Z",
     "shell.execute_reply.started": "2024-12-30T14:23:54.750955Z"
    },
    "trusted": true
   },
   "outputs": [],
   "source": [
    "df_arima=fillMissingDates(df_arima_main,unique_cols=['default_rank'],frequency='date',freq='D',grain_with_time=['default_rank','date'],sales_column=['sales','onpromotion','holiday_true'])"
   ]
  },
  {
   "cell_type": "code",
   "execution_count": null,
   "metadata": {
    "ExecuteTime": {
     "end_time": "2024-12-25T10:44:21.080182Z",
     "start_time": "2024-12-25T10:44:21.061159Z"
    },
    "execution": {
     "iopub.execute_input": "2024-12-30T14:24:16.874891Z",
     "iopub.status.busy": "2024-12-30T14:24:16.874458Z",
     "iopub.status.idle": "2024-12-30T14:24:16.893068Z",
     "shell.execute_reply": "2024-12-30T14:24:16.891809Z",
     "shell.execute_reply.started": "2024-12-30T14:24:16.874858Z"
    },
    "trusted": true
   },
   "outputs": [],
   "source": [
    "df_arima"
   ]
  },
  {
   "cell_type": "code",
   "execution_count": null,
   "metadata": {
    "ExecuteTime": {
     "end_time": "2024-12-25T10:44:21.534388Z",
     "start_time": "2024-12-25T10:44:21.491723Z"
    },
    "execution": {
     "iopub.execute_input": "2024-12-30T14:24:16.894702Z",
     "iopub.status.busy": "2024-12-30T14:24:16.894317Z",
     "iopub.status.idle": "2024-12-30T14:24:16.946448Z",
     "shell.execute_reply": "2024-12-30T14:24:16.945286Z",
     "shell.execute_reply.started": "2024-12-30T14:24:16.894673Z"
    },
    "trusted": true
   },
   "outputs": [],
   "source": [
    "groupno=45\n",
    "train_data,test_data,alll_data=Split_data(df=df_arima,groupno=groupno)\n",
    "# arima_model=MyAutoArima(data)\n",
    "arima_scaler_sales = MinMaxScaler()\n",
    "arima_scaler_onpromotion = MinMaxScaler()\n",
    "\n",
    "train_data['sales'] = arima_scaler_sales.fit_transform(train_data[['sales']])\n",
    "test_data['sales'] = arima_scaler_sales.transform(test_data[['sales']])\n",
    "\n",
    "train_data['onpromotion'] = arima_scaler_onpromotion.fit_transform(train_data[['onpromotion']])\n",
    "test_data['onpromotion'] = arima_scaler_onpromotion.transform(test_data[['onpromotion']])\n",
    "\n",
    "\n",
    "train=train_data.set_index('date')[['sales']]\n",
    "x=train_data.set_index('date')[['holiday_true','onpromotion']]\n",
    "x_test=test_data.set_index('date')[['holiday_true','onpromotion']]\n",
    "\n"
   ]
  },
  {
   "cell_type": "code",
   "execution_count": 118,
   "metadata": {
    "ExecuteTime": {
     "end_time": "2024-12-25T10:44:22.102072Z",
     "start_time": "2024-12-25T10:44:22.092267Z"
    },
    "execution": {
     "iopub.execute_input": "2024-12-30T14:24:16.948386Z",
     "iopub.status.busy": "2024-12-30T14:24:16.947945Z",
     "iopub.status.idle": "2024-12-30T14:24:16.952988Z",
     "shell.execute_reply": "2024-12-30T14:24:16.951745Z",
     "shell.execute_reply.started": "2024-12-30T14:24:16.948346Z"
    },
    "trusted": true
   },
   "outputs": [],
   "source": [
    "\n",
    "# Resample to daily frequency to fill missing dates\n"
   ]
  },
  {
   "cell_type": "code",
   "execution_count": null,
   "metadata": {
    "ExecuteTime": {
     "end_time": "2024-12-25T10:44:22.674435Z",
     "start_time": "2024-12-25T10:44:22.630682Z"
    },
    "execution": {
     "iopub.execute_input": "2024-12-30T14:24:16.954529Z",
     "iopub.status.busy": "2024-12-30T14:24:16.954223Z",
     "iopub.status.idle": "2024-12-30T14:24:17.003325Z",
     "shell.execute_reply": "2024-12-30T14:24:17.002065Z",
     "shell.execute_reply.started": "2024-12-30T14:24:16.954503Z"
    },
    "trusted": true
   },
   "outputs": [],
   "source": [
    "train['group']=1\n",
    "train.reset_index(inplace=True)\n",
    "train=fillMissingDates(train,unique_cols=['group'],frequency='date',freq='D',grain_with_time=['group','date'],sales_column=['sales'])\n",
    "train.set_index('date',inplace=True)\n",
    "train.index = pd.to_datetime(train.index)\n",
    "if train.index.duplicated().any():\n",
    "    print(\"Duplicate entries found. Resolving...\")\n",
    "    train = train[~train.index.duplicated(keep='first')]\n",
    "train.index.freq='D'\n",
    "train=train[['sales']]"
   ]
  },
  {
   "cell_type": "code",
   "execution_count": null,
   "metadata": {
    "ExecuteTime": {
     "end_time": "2024-12-25T10:44:23.032620Z",
     "start_time": "2024-12-25T10:44:22.942607Z"
    },
    "execution": {
     "iopub.execute_input": "2024-12-30T14:24:17.005032Z",
     "iopub.status.busy": "2024-12-30T14:24:17.004608Z",
     "iopub.status.idle": "2024-12-30T14:24:17.037557Z",
     "shell.execute_reply": "2024-12-30T14:24:17.036452Z",
     "shell.execute_reply.started": "2024-12-30T14:24:17.005001Z"
    },
    "trusted": true
   },
   "outputs": [],
   "source": [
    "x['group']=1\n",
    "x.reset_index(inplace=True)\n",
    "x=fillMissingDates(x,unique_cols=['group'],frequency='date',freq='D',grain_with_time=['group','date'],sales_column=['holiday_true','onpromotion'])\n",
    "x.set_index('date',inplace=True)\n",
    "x.index = pd.to_datetime(x.index)\n",
    "if x.index.duplicated().any():\n",
    "    print(\"Duplicate entries found. Resolving...\")\n",
    "    x = x[~x.index.duplicated(keep='first')]\n",
    "x.index.freq='D'\n",
    "x=x[['holiday_true','onpromotion']]"
   ]
  },
  {
   "cell_type": "code",
   "execution_count": 121,
   "metadata": {
    "ExecuteTime": {
     "end_time": "2024-12-25T10:44:23.173729Z",
     "start_time": "2024-12-25T10:44:23.166931Z"
    },
    "execution": {
     "iopub.execute_input": "2024-12-30T14:24:17.050311Z",
     "iopub.status.busy": "2024-12-30T14:24:17.049883Z",
     "iopub.status.idle": "2024-12-30T14:24:17.055366Z",
     "shell.execute_reply": "2024-12-30T14:24:17.054207Z",
     "shell.execute_reply.started": "2024-12-30T14:24:17.050276Z"
    },
    "trusted": true
   },
   "outputs": [],
   "source": [
    "if train.index.duplicated().any():\n",
    "    print(\"Duplicate entries found. Resolving...\")\n",
    "    train = train[~train.index.duplicated(keep='first')]\n"
   ]
  },
  {
   "cell_type": "code",
   "execution_count": null,
   "metadata": {
    "ExecuteTime": {
     "end_time": "2024-12-25T10:44:23.313460Z",
     "start_time": "2024-12-25T10:44:23.297538Z"
    },
    "execution": {
     "iopub.execute_input": "2024-12-30T14:24:17.058745Z",
     "iopub.status.busy": "2024-12-30T14:24:17.058382Z",
     "iopub.status.idle": "2024-12-30T14:24:17.084748Z",
     "shell.execute_reply": "2024-12-30T14:24:17.083460Z",
     "shell.execute_reply.started": "2024-12-30T14:24:17.058713Z"
    },
    "trusted": true
   },
   "outputs": [],
   "source": [
    "train"
   ]
  },
  {
   "cell_type": "code",
   "execution_count": 123,
   "metadata": {
    "ExecuteTime": {
     "end_time": "2024-12-25T10:44:23.524598Z",
     "start_time": "2024-12-25T10:44:23.517445Z"
    },
    "execution": {
     "iopub.execute_input": "2024-12-30T14:24:17.086564Z",
     "iopub.status.busy": "2024-12-30T14:24:17.086100Z",
     "iopub.status.idle": "2024-12-30T14:24:17.102478Z",
     "shell.execute_reply": "2024-12-30T14:24:17.101220Z",
     "shell.execute_reply.started": "2024-12-30T14:24:17.086524Z"
    },
    "trusted": true
   },
   "outputs": [],
   "source": [
    "# arima_model=MyAutoArima(train,x)\n",
    "# arima_model"
   ]
  },
  {
   "cell_type": "code",
   "execution_count": 124,
   "metadata": {
    "ExecuteTime": {
     "end_time": "2024-12-25T10:44:23.823994Z",
     "start_time": "2024-12-25T10:44:23.818009Z"
    },
    "execution": {
     "iopub.execute_input": "2024-12-30T14:24:17.104041Z",
     "iopub.status.busy": "2024-12-30T14:24:17.103685Z",
     "iopub.status.idle": "2024-12-30T14:24:17.123381Z",
     "shell.execute_reply": "2024-12-30T14:24:17.121923Z",
     "shell.execute_reply.started": "2024-12-30T14:24:17.104004Z"
    },
    "trusted": true
   },
   "outputs": [],
   "source": [
    "# arima_model"
   ]
  },
  {
   "cell_type": "code",
   "execution_count": null,
   "metadata": {
    "ExecuteTime": {
     "end_time": "2024-12-25T10:44:24.497650Z",
     "start_time": "2024-12-25T10:44:24.471456Z"
    },
    "execution": {
     "iopub.execute_input": "2024-12-30T14:24:17.124672Z",
     "iopub.status.busy": "2024-12-30T14:24:17.124393Z",
     "iopub.status.idle": "2024-12-30T14:24:17.149348Z",
     "shell.execute_reply": "2024-12-30T14:24:17.148286Z",
     "shell.execute_reply.started": "2024-12-30T14:24:17.124647Z"
    },
    "trusted": true
   },
   "outputs": [],
   "source": [
    "x"
   ]
  },
  {
   "cell_type": "code",
   "execution_count": null,
   "metadata": {
    "ExecuteTime": {
     "end_time": "2024-12-25T10:44:24.801699Z",
     "start_time": "2024-12-25T10:44:24.792632Z"
    },
    "execution": {
     "iopub.execute_input": "2024-12-30T14:24:17.150660Z",
     "iopub.status.busy": "2024-12-30T14:24:17.150319Z",
     "iopub.status.idle": "2024-12-30T14:24:17.167631Z",
     "shell.execute_reply": "2024-12-30T14:24:17.166396Z",
     "shell.execute_reply.started": "2024-12-30T14:24:17.150618Z"
    },
    "trusted": true
   },
   "outputs": [],
   "source": [
    "train.columns"
   ]
  },
  {
   "cell_type": "code",
   "execution_count": null,
   "metadata": {
    "ExecuteTime": {
     "end_time": "2024-12-25T10:44:25.241397Z",
     "start_time": "2024-12-25T10:44:25.231741Z"
    },
    "execution": {
     "iopub.execute_input": "2024-12-30T14:24:17.169272Z",
     "iopub.status.busy": "2024-12-30T14:24:17.168837Z",
     "iopub.status.idle": "2024-12-30T14:24:17.187710Z",
     "shell.execute_reply": "2024-12-30T14:24:17.186598Z",
     "shell.execute_reply.started": "2024-12-30T14:24:17.169242Z"
    },
    "trusted": true
   },
   "outputs": [],
   "source": [
    "test_data.columns"
   ]
  },
  {
   "cell_type": "code",
   "execution_count": null,
   "metadata": {
    "ExecuteTime": {
     "end_time": "2024-12-25T10:44:25.927988Z",
     "start_time": "2024-12-25T10:44:25.914571Z"
    },
    "execution": {
     "iopub.execute_input": "2024-12-30T14:24:17.189129Z",
     "iopub.status.busy": "2024-12-30T14:24:17.188833Z",
     "iopub.status.idle": "2024-12-30T14:24:17.206268Z",
     "shell.execute_reply": "2024-12-30T14:24:17.205322Z",
     "shell.execute_reply.started": "2024-12-30T14:24:17.189103Z"
    },
    "trusted": true
   },
   "outputs": [],
   "source": [
    "data=train\n",
    "data.shape,x.shape"
   ]
  },
  {
   "cell_type": "code",
   "execution_count": 129,
   "metadata": {
    "ExecuteTime": {
     "end_time": "2024-12-25T10:44:26.125188Z",
     "start_time": "2024-12-25T10:44:26.098296Z"
    },
    "execution": {
     "iopub.execute_input": "2024-12-30T14:24:17.207667Z",
     "iopub.status.busy": "2024-12-30T14:24:17.207307Z",
     "iopub.status.idle": "2024-12-30T14:24:17.244566Z",
     "shell.execute_reply": "2024-12-30T14:24:17.243273Z",
     "shell.execute_reply.started": "2024-12-30T14:24:17.207637Z"
    },
    "trusted": true
   },
   "outputs": [],
   "source": [
    "\n",
    "arima_model=ARIMA(endog=data,                  \n",
    "      exog=x,\n",
    "      order=(7, 1, 7), \n",
    "      seasonal_order=(0, 0, 0, 0), \n",
    "      trend=None,\n",
    "      enforce_stationarity=True, \n",
    "      enforce_invertibility=True,\n",
    "      concentrate_scale=False, \n",
    "      trend_offset=1, \n",
    "      dates=None,\n",
    "      freq=None,\n",
    "      missing='none', \n",
    "      validate_specification=True)"
   ]
  },
  {
   "cell_type": "code",
   "execution_count": null,
   "metadata": {
    "ExecuteTime": {
     "end_time": "2024-12-25T10:44:37.442174Z",
     "start_time": "2024-12-25T10:44:26.212223Z"
    },
    "execution": {
     "iopub.execute_input": "2024-12-30T14:24:17.245996Z",
     "iopub.status.busy": "2024-12-30T14:24:17.245594Z",
     "iopub.status.idle": "2024-12-30T14:24:31.605036Z",
     "shell.execute_reply": "2024-12-30T14:24:31.604085Z",
     "shell.execute_reply.started": "2024-12-30T14:24:17.245962Z"
    },
    "trusted": true
   },
   "outputs": [],
   "source": [
    "res = arima_model.fit()"
   ]
  },
  {
   "cell_type": "code",
   "execution_count": 131,
   "metadata": {
    "ExecuteTime": {
     "end_time": "2024-12-25T10:44:37.546233Z",
     "start_time": "2024-12-25T10:44:37.531285Z"
    },
    "execution": {
     "iopub.execute_input": "2024-12-30T14:24:31.606128Z",
     "iopub.status.busy": "2024-12-30T14:24:31.605804Z",
     "iopub.status.idle": "2024-12-30T14:24:31.632392Z",
     "shell.execute_reply": "2024-12-30T14:24:31.631281Z",
     "shell.execute_reply.started": "2024-12-30T14:24:31.606098Z"
    },
    "trusted": true
   },
   "outputs": [],
   "source": [
    "end=len(train)+len(test_data)-1\n",
    "start=len(train)\n",
    "pred_data=res.predict(start=len(train),end=len(train)+len(test_data)-1,exog=x_test).rename('Predicted_717V2_group88')\n"
   ]
  },
  {
   "cell_type": "code",
   "execution_count": null,
   "metadata": {
    "ExecuteTime": {
     "end_time": "2024-12-25T10:44:37.774679Z",
     "start_time": "2024-12-25T10:44:37.752893Z"
    },
    "execution": {
     "iopub.execute_input": "2024-12-30T14:24:31.633538Z",
     "iopub.status.busy": "2024-12-30T14:24:31.633205Z",
     "iopub.status.idle": "2024-12-30T14:24:31.656372Z",
     "shell.execute_reply": "2024-12-30T14:24:31.654662Z",
     "shell.execute_reply.started": "2024-12-30T14:24:31.633506Z"
    },
    "trusted": true
   },
   "outputs": [],
   "source": [
    "predicted_df=pd.DataFrame(pred_data)\n",
    "predicted_df.head()"
   ]
  },
  {
   "cell_type": "code",
   "execution_count": 133,
   "metadata": {
    "ExecuteTime": {
     "end_time": "2024-12-25T10:44:37.983288Z",
     "start_time": "2024-12-25T10:44:37.971612Z"
    },
    "execution": {
     "iopub.execute_input": "2024-12-30T14:24:31.658561Z",
     "iopub.status.busy": "2024-12-30T14:24:31.658189Z",
     "iopub.status.idle": "2024-12-30T14:24:31.673930Z",
     "shell.execute_reply": "2024-12-30T14:24:31.672920Z",
     "shell.execute_reply.started": "2024-12-30T14:24:31.658527Z"
    },
    "trusted": true
   },
   "outputs": [],
   "source": [
    "predicted_df=predicted_df.reset_index().rename(columns={'index':'date'})"
   ]
  },
  {
   "cell_type": "code",
   "execution_count": null,
   "metadata": {
    "ExecuteTime": {
     "end_time": "2024-12-25T10:44:38.076698Z",
     "start_time": "2024-12-25T10:44:38.067187Z"
    },
    "execution": {
     "iopub.execute_input": "2024-12-30T14:24:31.676123Z",
     "iopub.status.busy": "2024-12-30T14:24:31.675785Z",
     "iopub.status.idle": "2024-12-30T14:24:31.698230Z",
     "shell.execute_reply": "2024-12-30T14:24:31.697149Z",
     "shell.execute_reply.started": "2024-12-30T14:24:31.676091Z"
    },
    "trusted": true
   },
   "outputs": [],
   "source": [
    "predicted_df['Predicted_717V2_group88']=arima_scaler_sales.inverse_transform(predicted_df[['Predicted_717V2_group88']])\n",
    "test_data['sales']=arima_scaler_sales.inverse_transform(test_data[['sales']])"
   ]
  },
  {
   "cell_type": "code",
   "execution_count": null,
   "metadata": {
    "ExecuteTime": {
     "end_time": "2024-12-25T10:44:38.592471Z",
     "start_time": "2024-12-25T10:44:38.583703Z"
    },
    "execution": {
     "iopub.execute_input": "2024-12-30T14:24:31.699612Z",
     "iopub.status.busy": "2024-12-30T14:24:31.699297Z",
     "iopub.status.idle": "2024-12-30T14:24:31.720110Z",
     "shell.execute_reply": "2024-12-30T14:24:31.718956Z",
     "shell.execute_reply.started": "2024-12-30T14:24:31.699584Z"
    },
    "trusted": true
   },
   "outputs": [],
   "source": [
    "predicted_df.head()"
   ]
  },
  {
   "cell_type": "code",
   "execution_count": 136,
   "metadata": {
    "ExecuteTime": {
     "end_time": "2024-12-25T10:44:38.720063Z",
     "start_time": "2024-12-25T10:44:38.710589Z"
    },
    "execution": {
     "iopub.execute_input": "2024-12-30T14:24:31.721618Z",
     "iopub.status.busy": "2024-12-30T14:24:31.721317Z",
     "iopub.status.idle": "2024-12-30T14:24:31.743132Z",
     "shell.execute_reply": "2024-12-30T14:24:31.741382Z",
     "shell.execute_reply.started": "2024-12-30T14:24:31.721592Z"
    },
    "trusted": true
   },
   "outputs": [],
   "source": [
    "\n",
    "test_pred=test_data[['date','sales']].merge(predicted_df,on='date',how='left')\n"
   ]
  },
  {
   "cell_type": "code",
   "execution_count": null,
   "metadata": {
    "ExecuteTime": {
     "end_time": "2024-12-25T10:44:38.893208Z",
     "start_time": "2024-12-25T10:44:38.889535Z"
    },
    "trusted": true
   },
   "outputs": [],
   "source": []
  },
  {
   "cell_type": "code",
   "execution_count": null,
   "metadata": {
    "ExecuteTime": {
     "end_time": "2024-12-25T10:44:39.987599Z",
     "start_time": "2024-12-25T10:44:39.345697Z"
    },
    "execution": {
     "iopub.execute_input": "2024-12-30T14:24:31.744925Z",
     "iopub.status.busy": "2024-12-30T14:24:31.744468Z",
     "iopub.status.idle": "2024-12-30T14:24:32.127825Z",
     "shell.execute_reply": "2024-12-30T14:24:32.126645Z",
     "shell.execute_reply.started": "2024-12-30T14:24:31.744879Z"
    },
    "trusted": true
   },
   "outputs": [],
   "source": [
    "test_pred.set_index('date').plot()\n",
    "plt.show()"
   ]
  },
  {
   "cell_type": "code",
   "execution_count": null,
   "metadata": {
    "ExecuteTime": {
     "end_time": "2024-12-25T10:44:40.074997Z",
     "start_time": "2024-12-25T10:44:40.020112Z"
    },
    "execution": {
     "iopub.execute_input": "2024-12-30T14:24:32.129278Z",
     "iopub.status.busy": "2024-12-30T14:24:32.128854Z",
     "iopub.status.idle": "2024-12-30T14:24:32.196097Z",
     "shell.execute_reply": "2024-12-30T14:24:32.195135Z",
     "shell.execute_reply.started": "2024-12-30T14:24:32.129229Z"
    },
    "trusted": true
   },
   "outputs": [],
   "source": [
    "px.line(test_pred,x='date',y=test_pred.columns)"
   ]
  },
  {
   "cell_type": "code",
   "execution_count": null,
   "metadata": {
    "ExecuteTime": {
     "end_time": "2024-12-25T10:44:40.105744Z",
     "start_time": "2024-12-25T10:44:40.102182Z"
    },
    "trusted": true
   },
   "outputs": [],
   "source": []
  },
  {
   "cell_type": "code",
   "execution_count": 139,
   "metadata": {
    "ExecuteTime": {
     "end_time": "2024-12-25T10:44:40.164443Z",
     "start_time": "2024-12-25T10:44:40.155496Z"
    },
    "execution": {
     "iopub.execute_input": "2024-12-30T14:24:32.197485Z",
     "iopub.status.busy": "2024-12-30T14:24:32.197120Z",
     "iopub.status.idle": "2024-12-30T14:24:32.201797Z",
     "shell.execute_reply": "2024-12-30T14:24:32.200452Z",
     "shell.execute_reply.started": "2024-12-30T14:24:32.197456Z"
    },
    "trusted": true
   },
   "outputs": [],
   "source": [
    "# np.sqrt(mean_squared_error(test_pred['sales'],test_pred['Predicted_717V2_y']))"
   ]
  },
  {
   "cell_type": "code",
   "execution_count": null,
   "metadata": {
    "ExecuteTime": {
     "end_time": "2024-12-25T10:44:40.242929Z",
     "start_time": "2024-12-25T10:44:40.229941Z"
    },
    "execution": {
     "iopub.execute_input": "2024-12-30T14:24:32.203371Z",
     "iopub.status.busy": "2024-12-30T14:24:32.202970Z",
     "iopub.status.idle": "2024-12-30T14:24:32.221310Z",
     "shell.execute_reply": "2024-12-30T14:24:32.220128Z",
     "shell.execute_reply.started": "2024-12-30T14:24:32.203333Z"
    },
    "trusted": true
   },
   "outputs": [],
   "source": [
    "rmsle(test_pred['sales'],test_pred['Predicted_717V2_group88'])"
   ]
  },
  {
   "cell_type": "code",
   "execution_count": 141,
   "metadata": {
    "execution": {
     "iopub.execute_input": "2024-12-30T14:24:32.222644Z",
     "iopub.status.busy": "2024-12-30T14:24:32.222365Z",
     "iopub.status.idle": "2024-12-30T14:24:32.239836Z",
     "shell.execute_reply": "2024-12-30T14:24:32.238570Z",
     "shell.execute_reply.started": "2024-12-30T14:24:32.222620Z"
    },
    "trusted": true
   },
   "outputs": [],
   "source": [
    "# my_test=pd.read_csv('data/test.csv',parse_dates=['date'])\n",
    "# oil=pd.read_csv('data/oil.csv',parse_dates=['date'])\n",
    "# train=pd.read_csv('data/train.csv',parse_dates=['date']) # main df # main df\n",
    "\n",
    "# stores=pd.read_csv('data/stores.csv') # can be merged with train - on store no\n",
    "# stores.rename(columns={'type':'store_type'},inplace=True)\n",
    "# ts=pd.read_csv('data/transactions.csv',parse_dates=['date']) # can be merged with train - on store no and date"
   ]
  },
  {
   "cell_type": "code",
   "execution_count": 142,
   "metadata": {
    "execution": {
     "iopub.execute_input": "2024-12-30T14:24:32.241337Z",
     "iopub.status.busy": "2024-12-30T14:24:32.241002Z",
     "iopub.status.idle": "2024-12-30T14:24:32.258713Z",
     "shell.execute_reply": "2024-12-30T14:24:32.257535Z",
     "shell.execute_reply.started": "2024-12-30T14:24:32.241310Z"
    },
    "trusted": true
   },
   "outputs": [],
   "source": [
    "data='/kaggle/input/store-sales-time-series-forecasting'"
   ]
  },
  {
   "cell_type": "code",
   "execution_count": 143,
   "metadata": {
    "execution": {
     "iopub.execute_input": "2024-12-30T14:24:32.260140Z",
     "iopub.status.busy": "2024-12-30T14:24:32.259808Z",
     "iopub.status.idle": "2024-12-30T14:24:34.300982Z",
     "shell.execute_reply": "2024-12-30T14:24:34.299898Z",
     "shell.execute_reply.started": "2024-12-30T14:24:32.260096Z"
    },
    "trusted": true
   },
   "outputs": [],
   "source": [
    "my_test=pd.read_csv(f'{data}/test.csv',parse_dates=['date'])\n",
    "oil=pd.read_csv(f'{data}/oil.csv',parse_dates=['date'])\n",
    "train=pd.read_csv(f'{data}/train.csv',parse_dates=['date']) # main df # main df\n",
    "\n",
    "stores=pd.read_csv(f'{data}/stores.csv') # can be merged with train - on store no\n",
    "stores.rename(columns={'type':'store_type'},inplace=True)\n",
    "ts=pd.read_csv(f'{data}/transactions.csv',parse_dates=['date']) # can be merged with train - on store no and date"
   ]
  },
  {
   "cell_type": "code",
   "execution_count": null,
   "metadata": {
    "trusted": true
   },
   "outputs": [],
   "source": []
  },
  {
   "cell_type": "code",
   "execution_count": null,
   "metadata": {
    "execution": {
     "iopub.execute_input": "2024-12-30T14:24:34.302351Z",
     "iopub.status.busy": "2024-12-30T14:24:34.302039Z",
     "iopub.status.idle": "2024-12-30T14:24:34.313921Z",
     "shell.execute_reply": "2024-12-30T14:24:34.313006Z",
     "shell.execute_reply.started": "2024-12-30T14:24:34.302324Z"
    },
    "trusted": true
   },
   "outputs": [],
   "source": [
    "ts"
   ]
  },
  {
   "cell_type": "code",
   "execution_count": 145,
   "metadata": {
    "ExecuteTime": {
     "end_time": "2024-12-25T10:44:40.517645Z",
     "start_time": "2024-12-25T10:44:40.510841Z"
    },
    "execution": {
     "iopub.execute_input": "2024-12-30T14:24:34.315378Z",
     "iopub.status.busy": "2024-12-30T14:24:34.314952Z",
     "iopub.status.idle": "2024-12-30T14:24:34.643846Z",
     "shell.execute_reply": "2024-12-30T14:24:34.643030Z",
     "shell.execute_reply.started": "2024-12-30T14:24:34.315350Z"
    },
    "trusted": true
   },
   "outputs": [],
   "source": [
    "rand_comb=df_hol[['default_rank','comb']].drop_duplicates()"
   ]
  },
  {
   "cell_type": "code",
   "execution_count": null,
   "metadata": {
    "ExecuteTime": {
     "end_time": "2024-12-25T10:44:40.472100Z",
     "start_time": "2024-12-25T10:44:40.466443Z"
    },
    "execution": {
     "iopub.execute_input": "2024-12-30T14:24:34.645255Z",
     "iopub.status.busy": "2024-12-30T14:24:34.644857Z",
     "iopub.status.idle": "2024-12-30T14:24:34.659379Z",
     "shell.execute_reply": "2024-12-30T14:24:34.658392Z",
     "shell.execute_reply.started": "2024-12-30T14:24:34.645216Z"
    },
    "trusted": true
   },
   "outputs": [],
   "source": [
    "test_data=my_test.copy(deep=True)\n",
    "test_data"
   ]
  },
  {
   "cell_type": "code",
   "execution_count": 147,
   "metadata": {
    "ExecuteTime": {
     "end_time": "2024-12-25T10:44:40.629766Z",
     "start_time": "2024-12-25T10:44:40.625728Z"
    },
    "execution": {
     "iopub.execute_input": "2024-12-30T14:24:34.660771Z",
     "iopub.status.busy": "2024-12-30T14:24:34.660448Z",
     "iopub.status.idle": "2024-12-30T14:24:34.711318Z",
     "shell.execute_reply": "2024-12-30T14:24:34.710062Z",
     "shell.execute_reply.started": "2024-12-30T14:24:34.660728Z"
    },
    "trusted": true
   },
   "outputs": [],
   "source": [
    "test_data['comb']=test_data['store_nbr'].astype(str)+'_'+test_data['family']\n",
    "test_data=test_data.merge(rand_comb,on='comb',how='outer',indicator=True)\n"
   ]
  },
  {
   "cell_type": "code",
   "execution_count": null,
   "metadata": {
    "execution": {
     "iopub.execute_input": "2024-12-30T14:24:34.712669Z",
     "iopub.status.busy": "2024-12-30T14:24:34.712382Z",
     "iopub.status.idle": "2024-12-30T14:24:34.720300Z",
     "shell.execute_reply": "2024-12-30T14:24:34.719183Z",
     "shell.execute_reply.started": "2024-12-30T14:24:34.712642Z"
    },
    "trusted": true
   },
   "outputs": [],
   "source": [
    "test_data['_merge'].unique()"
   ]
  },
  {
   "cell_type": "code",
   "execution_count": null,
   "metadata": {
    "execution": {
     "iopub.execute_input": "2024-12-30T14:24:34.722029Z",
     "iopub.status.busy": "2024-12-30T14:24:34.721604Z",
     "iopub.status.idle": "2024-12-30T14:24:34.766747Z",
     "shell.execute_reply": "2024-12-30T14:24:34.765628Z",
     "shell.execute_reply.started": "2024-12-30T14:24:34.721982Z"
    },
    "trusted": true
   },
   "outputs": [],
   "source": [
    "test_data=test_data.merge(stores,on='store_nbr',how='left')\n",
    "test_data"
   ]
  },
  {
   "cell_type": "code",
   "execution_count": 150,
   "metadata": {
    "execution": {
     "iopub.execute_input": "2024-12-30T14:24:34.767891Z",
     "iopub.status.busy": "2024-12-30T14:24:34.767624Z",
     "iopub.status.idle": "2024-12-30T14:24:34.772245Z",
     "shell.execute_reply": "2024-12-30T14:24:34.771262Z",
     "shell.execute_reply.started": "2024-12-30T14:24:34.767868Z"
    },
    "trusted": true
   },
   "outputs": [],
   "source": [
    "# df_hol=df.merge(holiday_Local.reset_index(),left_on=['date','city'],right_on=['date','locale_name'],how='left')\n",
    "# df_hol['local_holiday']=np.where(df_hol['locale_name'].isna(),False,True)\n",
    "# df_hol=df_hol[df.columns.to_list()+['local_holiday']]\n",
    "# df_hol=df_hol.merge(holiday_Regional.reset_index(),left_on=['date','state'],right_on=['date','locale_name'],how='left')\n",
    "# df_hol['regional_holiday']=np.where(df_hol['locale_name'].isna(),False,True)\n",
    "# df_hol=df_hol[df.columns.to_list()+['local_holiday','regional_holiday']]\n",
    "# df_hol=df_hol.merge(holiday_national.reset_index(),left_on=['date'],right_on=['date'],how='left')\n",
    "# df_hol['national_holiday']=np.where(df_hol['locale_name'].isna(),False,True)\n",
    "# # df_hol=df_hol[df.columns.to_list()+['local_holiday','regional_holiday','national_holiday']]\n",
    "# df_hol['holiday_true']=df_hol['local_holiday'] | df_hol['regional_holiday'] |df_hol['national_holiday']"
   ]
  },
  {
   "cell_type": "code",
   "execution_count": 151,
   "metadata": {
    "execution": {
     "iopub.execute_input": "2024-12-30T14:24:34.773615Z",
     "iopub.status.busy": "2024-12-30T14:24:34.773280Z",
     "iopub.status.idle": "2024-12-30T14:24:34.853082Z",
     "shell.execute_reply": "2024-12-30T14:24:34.852031Z",
     "shell.execute_reply.started": "2024-12-30T14:24:34.773588Z"
    },
    "trusted": true
   },
   "outputs": [],
   "source": [
    "test_data_hol=test_data.merge(holiday_Local.reset_index(),left_on=['date','city'],right_on=['date','locale_name'],how='left')\n",
    "test_data_hol['local_holiday']=np.where(test_data_hol['locale_name'].isna(),False,True)\n",
    "test_data_hol=test_data_hol[test_data.columns.to_list()+['local_holiday']]\n",
    "test_data_hol=test_data_hol.merge(holiday_Regional.reset_index(),left_on=['date','state'],right_on=['date','locale_name'],how='left')\n",
    "test_data_hol['regional_holiday']=np.where(test_data_hol['locale_name'].isna(),False,True)\n",
    "test_data_hol=test_data_hol[test_data.columns.to_list()+['local_holiday','regional_holiday']]\n",
    "test_data_hol=test_data_hol.merge(holiday_national.reset_index(),left_on=['date'],right_on=['date'],how='left')\n",
    "test_data_hol['national_holiday']=np.where(test_data_hol['locale_name'].isna(),False,True)\n",
    "# df_hol=df_hol[df.columns.to_list()+['local_holiday','regional_holiday','national_holiday']]\n",
    "test_data_hol['holiday_true']=test_data_hol['local_holiday'] | test_data_hol['regional_holiday'] |test_data_hol['national_holiday']"
   ]
  },
  {
   "cell_type": "code",
   "execution_count": null,
   "metadata": {
    "execution": {
     "iopub.execute_input": "2024-12-30T14:24:34.854566Z",
     "iopub.status.busy": "2024-12-30T14:24:34.854212Z",
     "iopub.status.idle": "2024-12-30T14:24:34.897029Z",
     "shell.execute_reply": "2024-12-30T14:24:34.895961Z",
     "shell.execute_reply.started": "2024-12-30T14:24:34.854531Z"
    },
    "trusted": true
   },
   "outputs": [],
   "source": [
    "test_data_hol"
   ]
  },
  {
   "cell_type": "code",
   "execution_count": 153,
   "metadata": {
    "execution": {
     "iopub.execute_input": "2024-12-30T14:24:34.898350Z",
     "iopub.status.busy": "2024-12-30T14:24:34.898046Z",
     "iopub.status.idle": "2024-12-30T14:24:34.912229Z",
     "shell.execute_reply": "2024-12-30T14:24:34.910984Z",
     "shell.execute_reply.started": "2024-12-30T14:24:34.898322Z"
    },
    "trusted": true
   },
   "outputs": [],
   "source": [
    "def Train_Predict(train,test,groupno):\n",
    "    # filter the train and test data\n",
    "    train_data=filter_data_for_group(train,groupno)\n",
    "    test_data=filter_data_for_group(test,groupno)\n",
    "\n",
    "    #filter required columns\n",
    "    req_columns_train=['default_rank','comb','date','sales','onpromotion','holiday_true']\n",
    "    req_columns_test=['default_rank','comb','date','onpromotion','holiday_true']\n",
    "    train_data_f=train_data[req_columns_train]\n",
    "    test_data_f=test_data[req_columns_test]\n",
    "\n",
    "    # change holiday data into ints\n",
    "    train_data_f.loc[:,'holiday_true']=train_data_f['holiday_true'].astype('int64')\n",
    "    test_data_f.loc[:,'holiday_true']=test_data_f['holiday_true'].astype('int64')\n",
    "\n",
    "    #fill missing dates\n",
    "    train_data_ff=fillMissingDates(train_data_f,unique_cols=['default_rank'],frequency='date',freq='D',grain_with_time=['default_rank','date'],sales_column=['sales','onpromotion','holiday_true'])\n",
    "    test_data_ff=fillMissingDates(test_data_f,unique_cols=['default_rank'],frequency='date',freq='D',grain_with_time=['default_rank','date'],sales_column=['onpromotion','holiday_true'])\n",
    "\n",
    "\n",
    "    # min max scaler\n",
    "\n",
    "    arima_scaler_sales = MinMaxScaler()\n",
    "    arima_scaler_onpromotion = MinMaxScaler()\n",
    "    \n",
    "    train_data_ff['sales'] = arima_scaler_sales.fit_transform(train_data_ff[['sales']])\n",
    "    # test_data_ff['sales'] = arima_scaler_sales.transform(test_data_ff[['sales']])\n",
    "    \n",
    "    train_data_ff['onpromotion'] = arima_scaler_onpromotion.fit_transform(train_data_ff[['onpromotion']])\n",
    "    test_data_ff['onpromotion'] = arima_scaler_onpromotion.transform(test_data_ff[['onpromotion']])\n",
    "    \n",
    "    \n",
    "    train_data_fff=train_data_ff.set_index('date')[['sales']]\n",
    "    x=train_data_ff.set_index('date')[['holiday_true','onpromotion']]\n",
    "    \n",
    "    # handle the frq of the train and test data and exog variables data   \n",
    "    train_data_fff['group']=1\n",
    "    train_data_fff.reset_index(inplace=True)\n",
    "    train_data_ffff=fillMissingDates(train_data_fff,unique_cols=['group'],frequency='date',freq='D',grain_with_time=['group','date'],sales_column=['sales'])\n",
    "    train_data_ffff.set_index('date',inplace=True)\n",
    "    train_data_ffff.index = pd.to_datetime(train_data_ffff.index)\n",
    "    if train_data_ffff.index.duplicated().any():\n",
    "        print(\"Duplicate entries found. Resolving...\")\n",
    "        train_data_ffff = train_data_ffff[~train_data_ffff.index.duplicated(keep='first')]\n",
    "    train_data_ffff.index.freq='D'\n",
    "    train_data_ffff=train_data_ffff[['sales']]\n",
    "    \n",
    "\n",
    "    x['group']=1\n",
    "    x.reset_index(inplace=True)\n",
    "    x=fillMissingDates(x,unique_cols=['group'],frequency='date',freq='D',grain_with_time=['group','date'],sales_column=['holiday_true','onpromotion'])\n",
    "    x.set_index('date',inplace=True)\n",
    "    x.index = pd.to_datetime(x.index)\n",
    "    if x.index.duplicated().any():\n",
    "        print(\"Duplicate entries found. Resolving...\")\n",
    "        x = x[~x.index.duplicated(keep='first')]\n",
    "    x.index.freq='D'\n",
    "    x=x[['holiday_true','onpromotion']]\n",
    "\n",
    "    \n",
    "    x_test=test_data_ff.set_index('date')[['holiday_true','onpromotion']]\n",
    "\n",
    "    arima_model=MyAutoArima(train_data_ffff,x)\n",
    "    res=arima_model.fit(y=train_data_ffff,X=x)\n",
    "    \n",
    "    start = len(train_data_ffff)\n",
    "    end = start + len(x_test) - 1\n",
    "    \n",
    "    assert x.shape[1] == x_test.shape[1], \"Mismatch in number of columns between training and test exogenous variables.\"\n",
    "    assert len(x_test) == (end - start + 1), \"Mismatch between prediction period and test exogenous variables.\"\n",
    "\n",
    "\n",
    "\n",
    "    \n",
    "    \n",
    "    # Predict with exogenous variables\n",
    "    pred_data = res.predict(n_periods=len(x_test), X=x_test).rename('sales')\n",
    "\n",
    "\n",
    "    predicted_df=pd.DataFrame(pred_data)\n",
    "\n",
    "    predicted_df['sales']=arima_scaler_sales.inverse_transform(predicted_df[['sales']]) \n",
    "\n",
    "    predicted_df=predicted_df.reset_index().rename(columns={'index':'date'})\n",
    "\n",
    "    predicted_df=test_data[['id','date']].merge(predicted_df,on='date',how='left')\n",
    "    predicted_df['Group']=groupno\n",
    "    \n",
    "    # # Output predictions\n",
    "    return res,x_test,end,start,predicted_df,train_data_f,test_data\n",
    "    "
   ]
  },
  {
   "cell_type": "code",
   "execution_count": null,
   "metadata": {
    "execution": {
     "iopub.execute_input": "2024-12-30T14:24:34.913524Z",
     "iopub.status.busy": "2024-12-30T14:24:34.913197Z",
     "iopub.status.idle": "2024-12-30T14:25:18.611496Z",
     "shell.execute_reply": "2024-12-30T14:25:18.610201Z",
     "shell.execute_reply.started": "2024-12-30T14:24:34.913495Z"
    },
    "trusted": true
   },
   "outputs": [],
   "source": [
    "res,x_test,end,start,predicted_df,train_data_f,test_data=Train_Predict(df_hol,test_data_hol,77)"
   ]
  },
  {
   "cell_type": "code",
   "execution_count": 155,
   "metadata": {
    "execution": {
     "iopub.execute_input": "2024-12-30T14:25:18.612951Z",
     "iopub.status.busy": "2024-12-30T14:25:18.612607Z",
     "iopub.status.idle": "2024-12-30T14:25:18.621515Z",
     "shell.execute_reply": "2024-12-30T14:25:18.619972Z",
     "shell.execute_reply.started": "2024-12-30T14:25:18.612915Z"
    },
    "trusted": true
   },
   "outputs": [],
   "source": [
    "# ??res.predict\n"
   ]
  },
  {
   "cell_type": "code",
   "execution_count": null,
   "metadata": {
    "execution": {
     "iopub.execute_input": "2024-12-30T14:25:18.623525Z",
     "iopub.status.busy": "2024-12-30T14:25:18.623185Z",
     "iopub.status.idle": "2024-12-30T14:25:18.673439Z",
     "shell.execute_reply": "2024-12-30T14:25:18.671676Z",
     "shell.execute_reply.started": "2024-12-30T14:25:18.623494Z"
    },
    "trusted": true
   },
   "outputs": [],
   "source": [
    "predicted_df"
   ]
  },
  {
   "cell_type": "code",
   "execution_count": null,
   "metadata": {
    "execution": {
     "iopub.execute_input": "2024-12-30T14:25:18.678944Z",
     "iopub.status.busy": "2024-12-30T14:25:18.677416Z",
     "iopub.status.idle": "2024-12-30T14:25:18.693527Z",
     "shell.execute_reply": "2024-12-30T14:25:18.692305Z",
     "shell.execute_reply.started": "2024-12-30T14:25:18.678898Z"
    },
    "trusted": true
   },
   "outputs": [],
   "source": [
    "all_groups=test_data_hol['default_rank'].unique()\n",
    "all_groups"
   ]
  },
  {
   "cell_type": "code",
   "execution_count": 158,
   "metadata": {
    "execution": {
     "iopub.execute_input": "2024-12-30T14:25:18.694992Z",
     "iopub.status.busy": "2024-12-30T14:25:18.694693Z",
     "iopub.status.idle": "2024-12-30T14:25:18.706867Z",
     "shell.execute_reply": "2024-12-30T14:25:18.705708Z",
     "shell.execute_reply.started": "2024-12-30T14:25:18.694967Z"
    },
    "trusted": true
   },
   "outputs": [],
   "source": [
    "# all_predicted_data=[]\n",
    "# for group in all_groups:\n",
    "#     res,x_test,end,start,predicted_df,train_data_f,test_data=Train_Predict(df_hol,test_data_hol,group)\n",
    "#     all_predicted_data.append(predicted_df)"
   ]
  },
  {
   "cell_type": "code",
   "execution_count": 159,
   "metadata": {
    "execution": {
     "iopub.execute_input": "2024-12-30T14:25:18.708700Z",
     "iopub.status.busy": "2024-12-30T14:25:18.708257Z",
     "iopub.status.idle": "2024-12-30T14:25:18.726414Z",
     "shell.execute_reply": "2024-12-30T14:25:18.725297Z",
     "shell.execute_reply.started": "2024-12-30T14:25:18.708657Z"
    },
    "trusted": true
   },
   "outputs": [],
   "source": [
    "def Train_Predict_Prophet(train,test,groupno):\n",
    "    # filter the train and test data\n",
    "    train_data=filter_data_for_group(train,groupno)\n",
    "    test_data=filter_data_for_group(test,groupno)\n",
    "\n",
    "    #filter required columns\n",
    "    req_columns_train=['default_rank','comb','date','sales','onpromotion','holiday_true']\n",
    "    req_columns_test=['default_rank','comb','date','onpromotion','holiday_true']\n",
    "    train_data_f=train_data[req_columns_train]\n",
    "    test_data_f=test_data[req_columns_test]\n",
    "\n",
    "    # change holiday data into ints\n",
    "    train_data_f.loc[:,'holiday_true']=train_data_f['holiday_true'].astype('int64')\n",
    "    test_data_f.loc[:,'holiday_true']=test_data_f['holiday_true'].astype('int64')\n",
    "\n",
    "    #fill missing dates\n",
    "    train_data_ff=fillMissingDates(train_data_f,unique_cols=['default_rank'],frequency='date',freq='D',grain_with_time=['default_rank','date'],sales_column=['sales','onpromotion','holiday_true'])\n",
    "    test_data_ff=fillMissingDates(test_data_f,unique_cols=['default_rank'],frequency='date',freq='D',grain_with_time=['default_rank','date'],sales_column=['onpromotion','holiday_true'])\n",
    "\n",
    "\n",
    "    # min max scaler\n",
    "\n",
    "    Prophet_scaler_sales = MinMaxScaler()\n",
    "    Prophet_scaler_onpromotion = MinMaxScaler()\n",
    "    \n",
    "    train_data_ff['sales'] = Prophet_scaler_sales.fit_transform(train_data_ff[['sales']])\n",
    "    # test_data_ff['sales'] = Prophet_scaler_sales.transform(test_data_ff[['sales']])\n",
    "    \n",
    "    train_data_ff['onpromotion'] = Prophet_scaler_onpromotion.fit_transform(train_data_ff[['onpromotion']])\n",
    "    test_data_ff['onpromotion'] = Prophet_scaler_onpromotion.transform(test_data_ff[['onpromotion']])\n",
    "\n",
    "    # convert_columns into standard names\n",
    "\n",
    "    train_data_ff.rename(columns={'date':'ds','sales':'y'},inplace=True)\n",
    "    test_data_ff.rename(columns={'date':'ds'},inplace=True)\n",
    "    print(train_data_ff.columns)\n",
    "    \n",
    "    # define the model\n",
    "\n",
    "    model=Prophet(daily_seasonality=True)\n",
    "    # model.add_regressor('holiday_true')\n",
    "    # model.add_regressor('onpromotion')\n",
    "    model.fit(train_data_ff)\n",
    "    future_dfs=model.make_future_dataframe(periods=len(test_data_ff))\n",
    "    \n",
    "    \n",
    "    future_dfs = future_dfs.merge(\n",
    "    test_data_ff[['ds', 'holiday_true', 'onpromotion']],\n",
    "    on='ds',\n",
    "    how='left'\n",
    "    )\n",
    "    future_dfs.fillna({'holiday_true': 0, 'onpromotion': 0}, inplace=True)\n",
    "\n",
    "\n",
    "\n",
    "    \n",
    "    # Predict with exogenous variables\n",
    "    future_dfs=future_dfs.tail(len(test_data_ff)).head(len(test_data_ff))\n",
    "    preds=model.predict(future_dfs)\n",
    "\n",
    "    preds['yhat'] = Prophet_scaler_sales.inverse_transform(preds[['yhat']])\n",
    "    preds['yhat_lower'] = Prophet_scaler_sales.inverse_transform(preds[['yhat_lower']])\n",
    "    preds['yhat_upper'] = Prophet_scaler_sales.inverse_transform(preds[['yhat_upper']])\n",
    "    \n",
    "    #\n",
    "    \n",
    "    predicted_df=preds[['ds','yhat','yhat_upper','yhat_lower']]\n",
    "    predicted_df=test_data[['id','date']].merge(predicted_df,right_on='ds',left_on='date',how='left')\n",
    "    predicted_df['Group']=groupno\n",
    "    \n",
    "    # # Output predictions\n",
    "    return model,future_dfs,predicted_df,train_data_f,test_data\n",
    "    "
   ]
  },
  {
   "cell_type": "code",
   "execution_count": 160,
   "metadata": {
    "execution": {
     "iopub.execute_input": "2024-12-30T14:25:18.728001Z",
     "iopub.status.busy": "2024-12-30T14:25:18.727564Z",
     "iopub.status.idle": "2024-12-30T14:25:18.749720Z",
     "shell.execute_reply": "2024-12-30T14:25:18.748513Z",
     "shell.execute_reply.started": "2024-12-30T14:25:18.727962Z"
    },
    "trusted": true
   },
   "outputs": [],
   "source": [
    "import pandas as pd\n",
    "import os\n",
    "from tqdm import tqdm\n",
    "\n",
    "# Function to save data periodically\n",
    "def save_batch_data(data_list, save_path, batch_number):\n",
    "    if not os.path.exists(save_path):\n",
    "        os.makedirs(save_path)  # Create directory if it doesn't exist\n",
    "    \n",
    "    combined_df = pd.concat(data_list, ignore_index=True)\n",
    "    file_name = f\"predicted_batch_prophet_v1_{batch_number}.csv\"\n",
    "    file_path = os.path.join(save_path, file_name)\n",
    "    combined_df.to_csv(file_path, index=False)\n",
    "    print(f\"Batch {batch_number} saved to {file_path}\")\n",
    "\n",
    "# Main processing loop with tqdm for progress bar\n",
    "def process_all_groups(df_hol, test_data_hol, all_groups, save_interval=100, save_path='predicted_arima_data_v2'):\n",
    "    all_predicted_data = []\n",
    "    batch_counter = 0  # To track number of processed batches\n",
    "\n",
    "    # Loop through groups with tqdm\n",
    "    for i, group in enumerate(tqdm(all_groups, desc=\"Processing Groups\"), start=1):\n",
    "        # Process group data\n",
    "        res, x_test, end, start, predicted_df, train_data_f, test_data = Train_Predict(df_hol, test_data_hol, group)\n",
    "        all_predicted_data.append(predicted_df)\n",
    "        \n",
    "        # Check if it's time to save the data\n",
    "        if i % save_interval == 0:\n",
    "            batch_counter += 1\n",
    "            save_batch_data(all_predicted_data, save_path, batch_counter)\n",
    "            all_predicted_data.clear()  # Clear the list after saving to free memory\n",
    "\n",
    "    # Save remaining data if any after the loop ends\n",
    "    if all_predicted_data:\n",
    "        batch_counter += 1\n",
    "        save_batch_data(all_predicted_data, save_path, batch_counter)\n",
    "\n",
    "def process_all_groups_Prophet(df_hol, test_data_hol, all_groups, save_interval=100, save_path='predicted_prophet_data_v1'):\n",
    "    all_predicted_data = []\n",
    "    batch_counter = 0  # To track number of processed batches\n",
    "\n",
    "    # Loop through groups with tqdm\n",
    "    for i, group in enumerate(tqdm(all_groups, desc=\"Processing Groups\"), start=1):\n",
    "        # Process group data\n",
    "        model,future_dfs,predicted_df,train_data_f,test_data = Train_Predict_Prophet(df_hol, test_data_hol, group)\n",
    "        all_predicted_data.append(predicted_df)\n",
    "        \n",
    "        # Check if it's time to save the data\n",
    "        if i % save_interval == 0:\n",
    "            batch_counter += 1\n",
    "            save_batch_data(all_predicted_data, save_path, batch_counter)\n",
    "            all_predicted_data.clear()  # Clear the list after saving to free memory\n",
    "\n",
    "    # Save remaining data if any after the loop ends\n",
    "    if all_predicted_data:\n",
    "        batch_counter += 1\n",
    "        save_batch_data(all_predicted_data, save_path, batch_counter)"
   ]
  },
  {
   "cell_type": "code",
   "execution_count": null,
   "metadata": {
    "execution": {
     "iopub.execute_input": "2024-12-30T14:25:18.751441Z",
     "iopub.status.busy": "2024-12-30T14:25:18.750995Z",
     "iopub.status.idle": "2024-12-30T14:25:19.314980Z",
     "shell.execute_reply": "2024-12-30T14:25:19.313536Z",
     "shell.execute_reply.started": "2024-12-30T14:25:18.751399Z"
    },
    "trusted": true
   },
   "outputs": [],
   "source": [
    "count=0\n",
    "all_df=pd.DataFrame()\n",
    "for file in os.listdir('/kaggle/working/predicted_data'):\n",
    "    count=count+1\n",
    "    file_path=os.path.join('/kaggle/working/predicted_data',file)\n",
    "    df=pd.read_csv(file_path)\n",
    "    all_df=pd.concat([df,all_df],axis=0)\n",
    "for file in os.listdir('/kaggle/working/predicted_data_v2'):\n",
    "    count=count+1\n",
    "    file_path=os.path.join('/kaggle/working/predicted_data_v2',file)\n",
    "    df=pd.read_csv(file_path)\n",
    "    all_df=pd.concat([df,all_df],axis=0)\n",
    "count    "
   ]
  },
  {
   "cell_type": "code",
   "execution_count": 162,
   "metadata": {
    "execution": {
     "iopub.execute_input": "2024-12-30T14:25:19.316898Z",
     "iopub.status.busy": "2024-12-30T14:25:19.316458Z",
     "iopub.status.idle": "2024-12-30T14:25:19.321546Z",
     "shell.execute_reply": "2024-12-30T14:25:19.320204Z",
     "shell.execute_reply.started": "2024-12-30T14:25:19.316853Z"
    },
    "trusted": true
   },
   "outputs": [],
   "source": [
    "# all_groups = set(list(df_hol['default_rank'].unique())) - set(list(all_df['Group'].unique()))\n",
    "# all_groups"
   ]
  },
  {
   "cell_type": "code",
   "execution_count": null,
   "metadata": {
    "execution": {
     "iopub.execute_input": "2024-12-30T14:25:19.323507Z",
     "iopub.status.busy": "2024-12-30T14:25:19.323059Z",
     "iopub.status.idle": "2024-12-30T14:25:19.345835Z",
     "shell.execute_reply": "2024-12-30T14:25:19.344077Z",
     "shell.execute_reply.started": "2024-12-30T14:25:19.323466Z"
    },
    "trusted": true
   },
   "outputs": [],
   "source": [
    "all_groups"
   ]
  },
  {
   "cell_type": "code",
   "execution_count": 164,
   "metadata": {
    "execution": {
     "iopub.execute_input": "2024-12-30T14:27:25.906982Z",
     "iopub.status.busy": "2024-12-30T14:27:25.906149Z",
     "iopub.status.idle": "2024-12-30T14:27:56.222634Z",
     "shell.execute_reply": "2024-12-30T14:27:56.221547Z",
     "shell.execute_reply.started": "2024-12-30T14:27:25.906939Z"
    },
    "trusted": true
   },
   "outputs": [],
   "source": [
    "df_hol.to_csv('df_hol.csv',index=False)\n",
    "test_data_hol.to_csv('test_data_hol.csv',index=False)"
   ]
  },
  {
   "cell_type": "code",
   "execution_count": 212,
   "metadata": {
    "execution": {
     "iopub.execute_input": "2024-12-28T04:28:32.048137Z",
     "iopub.status.busy": "2024-12-28T04:28:32.047770Z",
     "iopub.status.idle": "2024-12-28T04:28:32.054085Z",
     "shell.execute_reply": "2024-12-28T04:28:32.052397Z",
     "shell.execute_reply.started": "2024-12-28T04:28:32.048105Z"
    },
    "trusted": true
   },
   "outputs": [],
   "source": [
    "from tqdm import tqdm\n",
    "def call():\n",
    "    if __name__ == '__main__':\n",
    "          # Assuming 'group' is a column in df_hol\n",
    "        process_all_groups_Prophet(df_hol, test_data_hol, all_groups, save_interval=10, save_path=\"predicted_prophet_data_v2\")"
   ]
  },
  {
   "cell_type": "code",
   "execution_count": null,
   "metadata": {
    "execution": {
     "iopub.execute_input": "2024-12-28T04:28:33.818004Z",
     "iopub.status.busy": "2024-12-28T04:28:33.817647Z",
     "iopub.status.idle": "2024-12-28T04:41:12.065189Z",
     "shell.execute_reply": "2024-12-28T04:41:12.064100Z",
     "shell.execute_reply.started": "2024-12-28T04:28:33.817973Z"
    },
    "trusted": true
   },
   "outputs": [],
   "source": [
    "call()"
   ]
  },
  {
   "cell_type": "code",
   "execution_count": null,
   "metadata": {
    "execution": {
     "iopub.execute_input": "2024-12-28T04:02:17.170063Z",
     "iopub.status.busy": "2024-12-28T04:02:17.169553Z",
     "iopub.status.idle": "2024-12-28T04:02:17.674762Z",
     "shell.execute_reply": "2024-12-28T04:02:17.673467Z",
     "shell.execute_reply.started": "2024-12-28T04:02:17.170030Z"
    },
    "trusted": true
   },
   "outputs": [],
   "source": [
    "# model,future_dfs,predicted_df,train_data_f,test_data=Train_Predict_Prophet(df_hol,test_data_hol,77)"
   ]
  },
  {
   "cell_type": "code",
   "execution_count": null,
   "metadata": {
    "trusted": true
   },
   "outputs": [],
   "source": []
  },
  {
   "cell_type": "code",
   "execution_count": null,
   "metadata": {
    "execution": {
     "iopub.status.busy": "2024-12-28T04:00:41.332369Z",
     "iopub.status.idle": "2024-12-28T04:00:41.333043Z",
     "shell.execute_reply": "2024-12-28T04:00:41.332803Z"
    },
    "trusted": true
   },
   "outputs": [],
   "source": [
    "# sns.lineplot(data=predicted_df,x=predicted_df.index,y=77)\n",
    "# sns.lineplot(data=train_data_f,x='date',y='sales')"
   ]
  },
  {
   "cell_type": "code",
   "execution_count": null,
   "metadata": {
    "execution": {
     "iopub.status.busy": "2024-12-28T04:00:41.334137Z",
     "iopub.status.idle": "2024-12-28T04:00:41.334660Z",
     "shell.execute_reply": "2024-12-28T04:00:41.334435Z"
    },
    "trusted": true
   },
   "outputs": [],
   "source": [
    "# from multiprocessing import Pool, cpu_count\n",
    "\n",
    "# # Define a wrapper function for multiprocessing\n",
    "# def process_group(args):\n",
    "#     df_hol, test_data_hol, group = args\n",
    "#     res, x_test, end, start, predicted_df, train_data_f, test_data = Train_Predict(df_hol, test_data_hol, group)\n",
    "#     return predicted_df\n",
    "\n",
    "# # Prepare data for multiprocessing\n",
    "# all_groups = df_hol['default_rank'].unique()  # Assuming 'group' is a column in df_hol\n",
    "# args_list = [(df_hol, test_data_hol, group) for group in all_groups]  # Create argument tuples\n",
    "\n",
    "# # Use multiprocessing to process groups in parallel\n",
    "# if __name__ == '__main__':\n",
    "#     with Pool(processes=cpu_count()) as pool:  # Use all available CPU cores\n",
    "#         all_predicted_data = pool.map(process_group, args_list)\n"
   ]
  },
  {
   "cell_type": "code",
   "execution_count": null,
   "metadata": {
    "execution": {
     "iopub.status.busy": "2024-12-28T04:00:41.335659Z",
     "iopub.status.idle": "2024-12-28T04:00:41.336111Z",
     "shell.execute_reply": "2024-12-28T04:00:41.335914Z"
    },
    "trusted": true
   },
   "outputs": [],
   "source": [
    "# import pandas as pd\n",
    "# from concurrent.futures import ThreadPoolExecutor, as_completed\n",
    "# import os\n",
    "\n",
    "# # Worker function to process each group\n",
    "# def process_group(df_hol, test_data_hol, group):\n",
    "#     try:\n",
    "#         res, x_test, end, start, predicted_df, train_data_f, test_data = Train_Predict(df_hol, test_data_hol, group)\n",
    "#         return predicted_df\n",
    "#     except Exception as e:\n",
    "#         print(f\"Error processing group {group}: {e}\")\n",
    "#         return None\n",
    "\n",
    "# # Function to run the process with multithreading\n",
    "# def process_with_saving(df_hol, test_data_hol, all_groups, save_interval=300, save_path=\"predicted_data\"):\n",
    "#     if not os.path.exists(save_path):\n",
    "#         os.makedirs(save_path)  # Create the directory if it doesn't exist\n",
    "\n",
    "#     all_predicted_data = []  # List to store all predictions\n",
    "#     futures = []\n",
    "#     save_counter = 0  # Counter to track saving intervals\n",
    "\n",
    "#     # Use ThreadPoolExecutor for multithreading\n",
    "#     with ThreadPoolExecutor() as executor:\n",
    "#         # Submit tasks for all groups\n",
    "#         future_to_group = {\n",
    "#             executor.submit(process_group, df_hol, test_data_hol, group): group for group in all_groups\n",
    "#         }\n",
    "\n",
    "#         # Collect results as they complete\n",
    "#         for future in as_completed(future_to_group):\n",
    "#             group = future_to_group[future]\n",
    "#             try:\n",
    "#                 result = future.result()\n",
    "#                 if result is not None:\n",
    "#                     all_predicted_data.append(result)\n",
    "#             except Exception as e:\n",
    "#                 print(f\"Error processing group {group}: {e}\")\n",
    "\n",
    "#             # Save data at specified intervals\n",
    "#             save_counter += 1\n",
    "#             if save_counter % save_interval == 0:\n",
    "#                 save_data(all_predicted_data, save_path, batch_number=save_counter // save_interval)\n",
    "#                 all_predicted_data.clear()  # Clear the list after saving to free memory\n",
    "\n",
    "#     # Save any remaining data after all groups are processed\n",
    "#     if all_predicted_data:\n",
    "#         save_data(all_predicted_data, save_path, batch_number=(save_counter // save_interval) + 1)\n",
    "\n",
    "# # Function to save predicted data\n",
    "# def save_data(data_list, save_path, batch_number):\n",
    "#     # Combine all predicted data into a single DataFrame\n",
    "#     combined_df = pd.concat(data_list, ignore_index=True)\n",
    "#     file_name = f\"predicted_batch_{batch_number}.csv\"\n",
    "#     file_path = os.path.join(save_path, file_name)\n",
    "#     combined_df.to_csv(file_path, index=False)\n",
    "#     print(f\"Batch {batch_number} saved to {file_path}\")\n"
   ]
  },
  {
   "cell_type": "code",
   "execution_count": null,
   "metadata": {
    "execution": {
     "iopub.status.busy": "2024-12-28T04:00:41.337138Z",
     "iopub.status.idle": "2024-12-28T04:00:41.337518Z",
     "shell.execute_reply": "2024-12-28T04:00:41.337381Z"
    },
    "trusted": true
   },
   "outputs": [],
   "source": [
    "# if __name__ == '__main__':\n",
    "#     all_groups = df_hol['default_rank'].unique()  # Assuming 'group' is a column in df_hol\n",
    "#     process_with_saving(df_hol, test_data_hol, all_groups, save_interval=300, save_path=\"predicted_data\")\n"
   ]
  },
  {
   "cell_type": "code",
   "execution_count": null,
   "metadata": {
    "execution": {
     "iopub.status.busy": "2024-12-28T04:00:41.343486Z",
     "iopub.status.idle": "2024-12-28T04:00:41.343949Z",
     "shell.execute_reply": "2024-12-28T04:00:41.343737Z"
    },
    "trusted": true
   },
   "outputs": [],
   "source": [
    "print('hello')\n",
    "import os\n",
    "import pandas as pd"
   ]
  },
  {
   "cell_type": "code",
   "execution_count": 214,
   "metadata": {
    "execution": {
     "iopub.execute_input": "2024-12-28T04:42:27.325770Z",
     "iopub.status.busy": "2024-12-28T04:42:27.325340Z",
     "iopub.status.idle": "2024-12-28T04:42:27.835883Z",
     "shell.execute_reply": "2024-12-28T04:42:27.834763Z",
     "shell.execute_reply.started": "2024-12-28T04:42:27.325733Z"
    },
    "trusted": true
   },
   "outputs": [],
   "source": [
    "count=0\n",
    "all_df=pd.DataFrame()\n",
    "for file in os.listdir('/kaggle/working/predicted_prophet_data_v2'):\n",
    "    count=count+1\n",
    "    file_path=os.path.join('/kaggle/working/predicted_prophet_data_v2',file)\n",
    "    df=pd.read_csv(file_path)\n",
    "    all_df=pd.concat([df,all_df],axis=0)\n",
    "    \n",
    "    "
   ]
  },
  {
   "cell_type": "code",
   "execution_count": null,
   "metadata": {
    "execution": {
     "iopub.execute_input": "2024-12-28T04:23:32.988550Z",
     "iopub.status.busy": "2024-12-28T04:23:32.988112Z",
     "iopub.status.idle": "2024-12-28T04:23:32.995175Z",
     "shell.execute_reply": "2024-12-28T04:23:32.994052Z",
     "shell.execute_reply.started": "2024-12-28T04:23:32.988515Z"
    },
    "trusted": true
   },
   "outputs": [],
   "source": [
    "count"
   ]
  },
  {
   "cell_type": "code",
   "execution_count": 215,
   "metadata": {
    "execution": {
     "iopub.execute_input": "2024-12-28T04:42:33.858264Z",
     "iopub.status.busy": "2024-12-28T04:42:33.857842Z",
     "iopub.status.idle": "2024-12-28T04:42:34.037515Z",
     "shell.execute_reply": "2024-12-28T04:42:34.036463Z",
     "shell.execute_reply.started": "2024-12-28T04:42:33.858206Z"
    },
    "trusted": true
   },
   "outputs": [],
   "source": [
    "all_df.to_csv('allpreddata_round1_prophet_v3.csv',index=False)"
   ]
  },
  {
   "cell_type": "code",
   "execution_count": null,
   "metadata": {
    "execution": {
     "iopub.execute_input": "2024-12-28T04:42:43.903616Z",
     "iopub.status.busy": "2024-12-28T04:42:43.903182Z",
     "iopub.status.idle": "2024-12-28T04:42:43.915307Z",
     "shell.execute_reply": "2024-12-28T04:42:43.913974Z",
     "shell.execute_reply.started": "2024-12-28T04:42:43.903585Z"
    },
    "trusted": true
   },
   "outputs": [],
   "source": [
    "all_df[all_df.duplicated(subset='id')]"
   ]
  },
  {
   "cell_type": "code",
   "execution_count": 216,
   "metadata": {
    "execution": {
     "iopub.execute_input": "2024-12-28T04:42:39.109793Z",
     "iopub.status.busy": "2024-12-28T04:42:39.109292Z",
     "iopub.status.idle": "2024-12-28T04:42:39.179228Z",
     "shell.execute_reply": "2024-12-28T04:42:39.177856Z",
     "shell.execute_reply.started": "2024-12-28T04:42:39.109757Z"
    },
    "trusted": true
   },
   "outputs": [],
   "source": [
    "all_df[['id','yhat']].rename(columns={'yhat':'sales'}).to_csv('Prophet_Submission_v2.csv',index=False)"
   ]
  },
  {
   "cell_type": "code",
   "execution_count": null,
   "metadata": {
    "execution": {
     "iopub.execute_input": "2024-12-28T04:42:46.519484Z",
     "iopub.status.busy": "2024-12-28T04:42:46.519064Z",
     "iopub.status.idle": "2024-12-28T04:42:46.535893Z",
     "shell.execute_reply": "2024-12-28T04:42:46.534662Z",
     "shell.execute_reply.started": "2024-12-28T04:42:46.519452Z"
    },
    "trusted": true
   },
   "outputs": [],
   "source": [
    "all_df"
   ]
  },
  {
   "cell_type": "code",
   "execution_count": null,
   "metadata": {
    "trusted": true
   },
   "outputs": [],
   "source": []
  }
 ],
 "metadata": {
  "kaggle": {
   "accelerator": "none",
   "dataSources": [
    {
     "databundleVersionId": 2887556,
     "sourceId": 29781,
     "sourceType": "competition"
    }
   ],
   "dockerImageVersionId": 30822,
   "isGpuEnabled": false,
   "isInternetEnabled": true,
   "language": "python",
   "sourceType": "notebook"
  },
  "kernelspec": {
   "display_name": "Python 3",
   "language": "python",
   "name": "python3"
  },
  "language_info": {
   "codemirror_mode": {
    "name": "ipython",
    "version": 3
   },
   "file_extension": ".py",
   "mimetype": "text/x-python",
   "name": "python",
   "nbconvert_exporter": "python",
   "pygments_lexer": "ipython3",
   "version": "3.10.12"
  }
 },
 "nbformat": 4,
 "nbformat_minor": 4
}
